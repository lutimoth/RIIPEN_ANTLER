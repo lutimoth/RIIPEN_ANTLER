{
 "cells": [
  {
   "cell_type": "code",
   "execution_count": 1,
   "metadata": {},
   "outputs": [],
   "source": [
    "import pandas as pd\n",
    "import numpy as np\n",
    "import matplotlib.pyplot as plt\n",
    "import seaborn as sns\n",
    "import os\n",
    "import warnings\n",
    "warnings.filterwarnings('ignore')\n",
    "import datetime as dt"
   ]
  },
  {
   "cell_type": "code",
   "execution_count": 2,
   "metadata": {},
   "outputs": [],
   "source": [
    "#import data\n",
    "df = pd.read_csv('pool_data_202211111622.csv_cleaned.csv')"
   ]
  },
  {
   "cell_type": "code",
   "execution_count": 3,
   "metadata": {
    "scrolled": true
   },
   "outputs": [
    {
     "data": {
      "text/html": [
       "<div>\n",
       "<style scoped>\n",
       "    .dataframe tbody tr th:only-of-type {\n",
       "        vertical-align: middle;\n",
       "    }\n",
       "\n",
       "    .dataframe tbody tr th {\n",
       "        vertical-align: top;\n",
       "    }\n",
       "\n",
       "    .dataframe thead th {\n",
       "        text-align: right;\n",
       "    }\n",
       "</style>\n",
       "<table border=\"1\" class=\"dataframe\">\n",
       "  <thead>\n",
       "    <tr style=\"text-align: right;\">\n",
       "      <th></th>\n",
       "      <th>time_stamp</th>\n",
       "      <th>pool_id</th>\n",
       "      <th>salinity</th>\n",
       "      <th>turbidity</th>\n",
       "      <th>ORP</th>\n",
       "      <th>PH</th>\n",
       "      <th>TDS</th>\n",
       "      <th>Pressure in</th>\n",
       "      <th>Pressure out</th>\n",
       "      <th>pump current</th>\n",
       "      <th>Fresh water</th>\n",
       "      <th>Drain</th>\n",
       "      <th>Human Counter</th>\n",
       "      <th>temperature</th>\n",
       "      <th>water level</th>\n",
       "    </tr>\n",
       "  </thead>\n",
       "  <tbody>\n",
       "    <tr>\n",
       "      <th>0</th>\n",
       "      <td>2022-11-01 11:01:16.220 -0400</td>\n",
       "      <td>10001</td>\n",
       "      <td>287.175</td>\n",
       "      <td>9.51440</td>\n",
       "      <td>774.049</td>\n",
       "      <td>7.41573</td>\n",
       "      <td>287.175</td>\n",
       "      <td>2.53581</td>\n",
       "      <td>2.53346</td>\n",
       "      <td>0.0</td>\n",
       "      <td>0.0</td>\n",
       "      <td>0.0</td>\n",
       "      <td>0.0</td>\n",
       "      <td>74.2574</td>\n",
       "      <td>500.0</td>\n",
       "    </tr>\n",
       "    <tr>\n",
       "      <th>1</th>\n",
       "      <td>2022-11-01 11:01:26.323 -0400</td>\n",
       "      <td>10001</td>\n",
       "      <td>287.175</td>\n",
       "      <td>9.35767</td>\n",
       "      <td>773.597</td>\n",
       "      <td>7.41573</td>\n",
       "      <td>287.175</td>\n",
       "      <td>2.53508</td>\n",
       "      <td>2.53382</td>\n",
       "      <td>0.0</td>\n",
       "      <td>0.0</td>\n",
       "      <td>0.0</td>\n",
       "      <td>0.0</td>\n",
       "      <td>74.2574</td>\n",
       "      <td>500.0</td>\n",
       "    </tr>\n",
       "    <tr>\n",
       "      <th>2</th>\n",
       "      <td>2022-11-01 11:01:36.386 -0400</td>\n",
       "      <td>10001</td>\n",
       "      <td>287.121</td>\n",
       "      <td>9.35767</td>\n",
       "      <td>773.869</td>\n",
       "      <td>7.41889</td>\n",
       "      <td>287.121</td>\n",
       "      <td>2.53526</td>\n",
       "      <td>2.53382</td>\n",
       "      <td>0.0</td>\n",
       "      <td>0.0</td>\n",
       "      <td>0.0</td>\n",
       "      <td>0.0</td>\n",
       "      <td>74.2574</td>\n",
       "      <td>500.0</td>\n",
       "    </tr>\n",
       "    <tr>\n",
       "      <th>3</th>\n",
       "      <td>2022-11-01 11:01:46.498 -0400</td>\n",
       "      <td>10001</td>\n",
       "      <td>287.248</td>\n",
       "      <td>8.57397</td>\n",
       "      <td>773.959</td>\n",
       "      <td>7.41193</td>\n",
       "      <td>287.248</td>\n",
       "      <td>2.53545</td>\n",
       "      <td>2.53382</td>\n",
       "      <td>0.0</td>\n",
       "      <td>0.0</td>\n",
       "      <td>0.0</td>\n",
       "      <td>0.0</td>\n",
       "      <td>74.2574</td>\n",
       "      <td>500.0</td>\n",
       "    </tr>\n",
       "    <tr>\n",
       "      <th>4</th>\n",
       "      <td>2022-11-01 11:01:56.554 -0400</td>\n",
       "      <td>10001</td>\n",
       "      <td>287.175</td>\n",
       "      <td>8.88745</td>\n",
       "      <td>773.597</td>\n",
       "      <td>7.41699</td>\n",
       "      <td>287.157</td>\n",
       "      <td>2.53508</td>\n",
       "      <td>2.53382</td>\n",
       "      <td>0.0</td>\n",
       "      <td>0.0</td>\n",
       "      <td>0.0</td>\n",
       "      <td>0.0</td>\n",
       "      <td>74.2574</td>\n",
       "      <td>500.0</td>\n",
       "    </tr>\n",
       "  </tbody>\n",
       "</table>\n",
       "</div>"
      ],
      "text/plain": [
       "                      time_stamp  pool_id  salinity  turbidity      ORP  \\\n",
       "0  2022-11-01 11:01:16.220 -0400    10001   287.175    9.51440  774.049   \n",
       "1  2022-11-01 11:01:26.323 -0400    10001   287.175    9.35767  773.597   \n",
       "2  2022-11-01 11:01:36.386 -0400    10001   287.121    9.35767  773.869   \n",
       "3  2022-11-01 11:01:46.498 -0400    10001   287.248    8.57397  773.959   \n",
       "4  2022-11-01 11:01:56.554 -0400    10001   287.175    8.88745  773.597   \n",
       "\n",
       "        PH      TDS  Pressure in  Pressure out  pump current  Fresh water  \\\n",
       "0  7.41573  287.175      2.53581       2.53346           0.0          0.0   \n",
       "1  7.41573  287.175      2.53508       2.53382           0.0          0.0   \n",
       "2  7.41889  287.121      2.53526       2.53382           0.0          0.0   \n",
       "3  7.41193  287.248      2.53545       2.53382           0.0          0.0   \n",
       "4  7.41699  287.157      2.53508       2.53382           0.0          0.0   \n",
       "\n",
       "   Drain  Human Counter  temperature  water level  \n",
       "0    0.0            0.0      74.2574        500.0  \n",
       "1    0.0            0.0      74.2574        500.0  \n",
       "2    0.0            0.0      74.2574        500.0  \n",
       "3    0.0            0.0      74.2574        500.0  \n",
       "4    0.0            0.0      74.2574        500.0  "
      ]
     },
     "execution_count": 3,
     "metadata": {},
     "output_type": "execute_result"
    }
   ],
   "source": [
    "df.head()"
   ]
  },
  {
   "cell_type": "code",
   "execution_count": 4,
   "metadata": {},
   "outputs": [],
   "source": [
    "df['time_stamp']=pd.to_datetime(df['time_stamp'],format='%Y-%m-%d %H:%M:%S')"
   ]
  },
  {
   "cell_type": "code",
   "execution_count": 5,
   "metadata": {},
   "outputs": [
    {
     "data": {
      "text/plain": [
       "0        2022-11-01 11:01:16.220000-04:00\n",
       "1        2022-11-01 11:01:26.323000-04:00\n",
       "2        2022-11-01 11:01:36.386000-04:00\n",
       "3        2022-11-01 11:01:46.498000-04:00\n",
       "4        2022-11-01 11:01:56.554000-04:00\n",
       "                       ...               \n",
       "43599    2022-11-01 11:00:26.794000-04:00\n",
       "43600    2022-11-01 11:00:36.852000-04:00\n",
       "43601    2022-11-01 11:00:46.971000-04:00\n",
       "43602    2022-11-01 11:00:56.031000-04:00\n",
       "43603    2022-11-01 11:01:06.155000-04:00\n",
       "Name: time_stamp, Length: 43604, dtype: object"
      ]
     },
     "execution_count": 5,
     "metadata": {},
     "output_type": "execute_result"
    }
   ],
   "source": [
    "df['time_stamp']"
   ]
  },
  {
   "cell_type": "code",
   "execution_count": 6,
   "metadata": {},
   "outputs": [
    {
     "data": {
      "text/html": [
       "<div>\n",
       "<style scoped>\n",
       "    .dataframe tbody tr th:only-of-type {\n",
       "        vertical-align: middle;\n",
       "    }\n",
       "\n",
       "    .dataframe tbody tr th {\n",
       "        vertical-align: top;\n",
       "    }\n",
       "\n",
       "    .dataframe thead th {\n",
       "        text-align: right;\n",
       "    }\n",
       "</style>\n",
       "<table border=\"1\" class=\"dataframe\">\n",
       "  <thead>\n",
       "    <tr style=\"text-align: right;\">\n",
       "      <th></th>\n",
       "      <th>time_stamp</th>\n",
       "      <th>pool_id</th>\n",
       "      <th>salinity</th>\n",
       "      <th>turbidity</th>\n",
       "      <th>ORP</th>\n",
       "      <th>PH</th>\n",
       "      <th>TDS</th>\n",
       "      <th>Pressure in</th>\n",
       "      <th>Pressure out</th>\n",
       "      <th>pump current</th>\n",
       "      <th>Fresh water</th>\n",
       "      <th>Drain</th>\n",
       "      <th>Human Counter</th>\n",
       "      <th>temperature</th>\n",
       "      <th>water level</th>\n",
       "    </tr>\n",
       "  </thead>\n",
       "  <tbody>\n",
       "    <tr>\n",
       "      <th>39637</th>\n",
       "      <td>2022-11-01 00:00:06.605000-04:00</td>\n",
       "      <td>10001</td>\n",
       "      <td>285.584</td>\n",
       "      <td>6.53613</td>\n",
       "      <td>788.607</td>\n",
       "      <td>7.46826</td>\n",
       "      <td>285.584</td>\n",
       "      <td>2.53725</td>\n",
       "      <td>2.53545</td>\n",
       "      <td>0.0</td>\n",
       "      <td>0.0</td>\n",
       "      <td>0.0</td>\n",
       "      <td>0.0</td>\n",
       "      <td>74.2574</td>\n",
       "      <td>500.0</td>\n",
       "    </tr>\n",
       "    <tr>\n",
       "      <th>39638</th>\n",
       "      <td>2022-11-01 00:00:16.661000-04:00</td>\n",
       "      <td>10001</td>\n",
       "      <td>285.638</td>\n",
       "      <td>6.37939</td>\n",
       "      <td>788.879</td>\n",
       "      <td>7.46067</td>\n",
       "      <td>285.638</td>\n",
       "      <td>2.53780</td>\n",
       "      <td>2.53617</td>\n",
       "      <td>0.0</td>\n",
       "      <td>0.0</td>\n",
       "      <td>0.0</td>\n",
       "      <td>0.0</td>\n",
       "      <td>74.2574</td>\n",
       "      <td>500.0</td>\n",
       "    </tr>\n",
       "    <tr>\n",
       "      <th>39639</th>\n",
       "      <td>2022-11-01 00:00:26.768000-04:00</td>\n",
       "      <td>10001</td>\n",
       "      <td>285.855</td>\n",
       "      <td>5.75244</td>\n",
       "      <td>788.336</td>\n",
       "      <td>7.42585</td>\n",
       "      <td>285.873</td>\n",
       "      <td>2.53870</td>\n",
       "      <td>2.53743</td>\n",
       "      <td>0.0</td>\n",
       "      <td>0.0</td>\n",
       "      <td>0.0</td>\n",
       "      <td>0.0</td>\n",
       "      <td>74.2574</td>\n",
       "      <td>500.0</td>\n",
       "    </tr>\n",
       "    <tr>\n",
       "      <th>39640</th>\n",
       "      <td>2022-11-01 00:00:36.834000-04:00</td>\n",
       "      <td>10001</td>\n",
       "      <td>285.855</td>\n",
       "      <td>5.59570</td>\n",
       "      <td>788.065</td>\n",
       "      <td>7.43408</td>\n",
       "      <td>285.855</td>\n",
       "      <td>2.53852</td>\n",
       "      <td>2.53743</td>\n",
       "      <td>0.0</td>\n",
       "      <td>0.0</td>\n",
       "      <td>0.0</td>\n",
       "      <td>0.0</td>\n",
       "      <td>74.2574</td>\n",
       "      <td>500.0</td>\n",
       "    </tr>\n",
       "    <tr>\n",
       "      <th>39641</th>\n",
       "      <td>2022-11-01 00:00:46.936000-04:00</td>\n",
       "      <td>10001</td>\n",
       "      <td>285.765</td>\n",
       "      <td>5.59570</td>\n",
       "      <td>788.879</td>\n",
       "      <td>7.43345</td>\n",
       "      <td>285.765</td>\n",
       "      <td>2.53870</td>\n",
       "      <td>2.53725</td>\n",
       "      <td>0.0</td>\n",
       "      <td>0.0</td>\n",
       "      <td>0.0</td>\n",
       "      <td>0.0</td>\n",
       "      <td>74.2574</td>\n",
       "      <td>500.0</td>\n",
       "    </tr>\n",
       "  </tbody>\n",
       "</table>\n",
       "</div>"
      ],
      "text/plain": [
       "                             time_stamp  pool_id  salinity  turbidity  \\\n",
       "39637  2022-11-01 00:00:06.605000-04:00    10001   285.584    6.53613   \n",
       "39638  2022-11-01 00:00:16.661000-04:00    10001   285.638    6.37939   \n",
       "39639  2022-11-01 00:00:26.768000-04:00    10001   285.855    5.75244   \n",
       "39640  2022-11-01 00:00:36.834000-04:00    10001   285.855    5.59570   \n",
       "39641  2022-11-01 00:00:46.936000-04:00    10001   285.765    5.59570   \n",
       "\n",
       "           ORP       PH      TDS  Pressure in  Pressure out  pump current  \\\n",
       "39637  788.607  7.46826  285.584      2.53725       2.53545           0.0   \n",
       "39638  788.879  7.46067  285.638      2.53780       2.53617           0.0   \n",
       "39639  788.336  7.42585  285.873      2.53870       2.53743           0.0   \n",
       "39640  788.065  7.43408  285.855      2.53852       2.53743           0.0   \n",
       "39641  788.879  7.43345  285.765      2.53870       2.53725           0.0   \n",
       "\n",
       "       Fresh water  Drain  Human Counter  temperature  water level  \n",
       "39637          0.0    0.0            0.0      74.2574        500.0  \n",
       "39638          0.0    0.0            0.0      74.2574        500.0  \n",
       "39639          0.0    0.0            0.0      74.2574        500.0  \n",
       "39640          0.0    0.0            0.0      74.2574        500.0  \n",
       "39641          0.0    0.0            0.0      74.2574        500.0  "
      ]
     },
     "execution_count": 6,
     "metadata": {},
     "output_type": "execute_result"
    }
   ],
   "source": [
    "df = df.sort_values(by='time_stamp')\n",
    "df.head()"
   ]
  },
  {
   "cell_type": "markdown",
   "metadata": {},
   "source": [
    "Per CDC requirements, want to maintain pH of the water to be at 7.2-7.8 (per Elham, normal is ~7.6). Want to flag when sensor reads out of range. "
   ]
  },
  {
   "cell_type": "code",
   "execution_count": 7,
   "metadata": {},
   "outputs": [
    {
     "data": {
      "text/plain": [
       "<AxesSubplot:>"
      ]
     },
     "execution_count": 7,
     "metadata": {},
     "output_type": "execute_result"
    },
    {
     "data": {
      "image/png": "[encoded data removed]",
      "text/plain": [
       "<Figure size 432x288 with 1 Axes>"
      ]
     },
     "metadata": {
      "needs_background": "light"
     },
     "output_type": "display_data"
    }
   ],
   "source": [
    "#pH range is from 0-14 \n",
    "\n",
    "df.loc[(df['PH']<14) & (df['PH']>0), 'PH'].hist(bins = 15)"
   ]
  },
  {
   "cell_type": "code",
   "execution_count": 8,
   "metadata": {},
   "outputs": [
    {
     "data": {
      "text/plain": [
       "count    43589.000000\n",
       "mean         6.343391\n",
       "std          2.600213\n",
       "min          0.095576\n",
       "25%          7.389770\n",
       "50%          7.416360\n",
       "75%          7.449270\n",
       "max         13.956100\n",
       "Name: PH, dtype: float64"
      ]
     },
     "execution_count": 8,
     "metadata": {},
     "output_type": "execute_result"
    }
   ],
   "source": [
    "df.loc[(df['PH']<14) & (df['PH']>0), 'PH'].describe()"
   ]
  },
  {
   "cell_type": "markdown",
   "metadata": {},
   "source": [
    "For the most part, the pH of the water seems to be within the desired range. The extreme min and max values may be due to sensor issues. "
   ]
  },
  {
   "cell_type": "code",
   "execution_count": 9,
   "metadata": {},
   "outputs": [
    {
     "data": {
      "text/plain": [
       "<matplotlib.lines.Line2D at 0x25430561310>"
      ]
     },
     "execution_count": 9,
     "metadata": {},
     "output_type": "execute_result"
    },
    {
     "data": {
      "image/png": "[encoded data removed]",
      "text/plain": [
       "<Figure size 1080x360 with 1 Axes>"
      ]
     },
     "metadata": {
      "needs_background": "light"
     },
     "output_type": "display_data"
    }
   ],
   "source": [
    "fig, ax = plt.subplots(figsize=(15,5))\n",
    "\n",
    "ax.plot(df['time_stamp'], df['PH'])\n",
    "ax.set_xlabel('Time')\n",
    "ax.set_ylabel('pH')\n",
    "ax.set_ylim([0,14])\n",
    "ax.set_title('Pool pH vs Time')\n",
    "ax.axhline(y=7.2, color='red') #getting too acidic\n",
    "ax.axhline(y=7.8, color='purple') #getting too basic\n",
    "ax.axhline(y=7.6, linestyle='--',color='green') #desired pH"
   ]
  },
  {
   "cell_type": "code",
   "execution_count": 10,
   "metadata": {},
   "outputs": [
    {
     "data": {
      "text/html": [
       "<div>\n",
       "<style scoped>\n",
       "    .dataframe tbody tr th:only-of-type {\n",
       "        vertical-align: middle;\n",
       "    }\n",
       "\n",
       "    .dataframe tbody tr th {\n",
       "        vertical-align: top;\n",
       "    }\n",
       "\n",
       "    .dataframe thead th {\n",
       "        text-align: right;\n",
       "    }\n",
       "</style>\n",
       "<table border=\"1\" class=\"dataframe\">\n",
       "  <thead>\n",
       "    <tr style=\"text-align: right;\">\n",
       "      <th></th>\n",
       "      <th>pool_id</th>\n",
       "      <th>salinity</th>\n",
       "      <th>turbidity</th>\n",
       "      <th>ORP</th>\n",
       "      <th>PH</th>\n",
       "      <th>TDS</th>\n",
       "      <th>Pressure in</th>\n",
       "      <th>Pressure out</th>\n",
       "      <th>pump current</th>\n",
       "      <th>Fresh water</th>\n",
       "      <th>Drain</th>\n",
       "      <th>Human Counter</th>\n",
       "      <th>temperature</th>\n",
       "      <th>water level</th>\n",
       "    </tr>\n",
       "    <tr>\n",
       "      <th>time_stamp</th>\n",
       "      <th></th>\n",
       "      <th></th>\n",
       "      <th></th>\n",
       "      <th></th>\n",
       "      <th></th>\n",
       "      <th></th>\n",
       "      <th></th>\n",
       "      <th></th>\n",
       "      <th></th>\n",
       "      <th></th>\n",
       "      <th></th>\n",
       "      <th></th>\n",
       "      <th></th>\n",
       "      <th></th>\n",
       "    </tr>\n",
       "  </thead>\n",
       "  <tbody>\n",
       "    <tr>\n",
       "      <th>2022-11-01 00:00:06.605000-04:00</th>\n",
       "      <td>10001</td>\n",
       "      <td>285.584</td>\n",
       "      <td>6.53613</td>\n",
       "      <td>788.607</td>\n",
       "      <td>7.46826</td>\n",
       "      <td>285.584</td>\n",
       "      <td>2.53725</td>\n",
       "      <td>2.53545</td>\n",
       "      <td>0.0</td>\n",
       "      <td>0.0</td>\n",
       "      <td>0.0</td>\n",
       "      <td>0.0</td>\n",
       "      <td>74.2574</td>\n",
       "      <td>500.0</td>\n",
       "    </tr>\n",
       "    <tr>\n",
       "      <th>2022-11-01 00:00:16.661000-04:00</th>\n",
       "      <td>10001</td>\n",
       "      <td>285.638</td>\n",
       "      <td>6.37939</td>\n",
       "      <td>788.879</td>\n",
       "      <td>7.46067</td>\n",
       "      <td>285.638</td>\n",
       "      <td>2.53780</td>\n",
       "      <td>2.53617</td>\n",
       "      <td>0.0</td>\n",
       "      <td>0.0</td>\n",
       "      <td>0.0</td>\n",
       "      <td>0.0</td>\n",
       "      <td>74.2574</td>\n",
       "      <td>500.0</td>\n",
       "    </tr>\n",
       "    <tr>\n",
       "      <th>2022-11-01 00:00:26.768000-04:00</th>\n",
       "      <td>10001</td>\n",
       "      <td>285.855</td>\n",
       "      <td>5.75244</td>\n",
       "      <td>788.336</td>\n",
       "      <td>7.42585</td>\n",
       "      <td>285.873</td>\n",
       "      <td>2.53870</td>\n",
       "      <td>2.53743</td>\n",
       "      <td>0.0</td>\n",
       "      <td>0.0</td>\n",
       "      <td>0.0</td>\n",
       "      <td>0.0</td>\n",
       "      <td>74.2574</td>\n",
       "      <td>500.0</td>\n",
       "    </tr>\n",
       "    <tr>\n",
       "      <th>2022-11-01 00:00:36.834000-04:00</th>\n",
       "      <td>10001</td>\n",
       "      <td>285.855</td>\n",
       "      <td>5.59570</td>\n",
       "      <td>788.065</td>\n",
       "      <td>7.43408</td>\n",
       "      <td>285.855</td>\n",
       "      <td>2.53852</td>\n",
       "      <td>2.53743</td>\n",
       "      <td>0.0</td>\n",
       "      <td>0.0</td>\n",
       "      <td>0.0</td>\n",
       "      <td>0.0</td>\n",
       "      <td>74.2574</td>\n",
       "      <td>500.0</td>\n",
       "    </tr>\n",
       "    <tr>\n",
       "      <th>2022-11-01 00:00:46.936000-04:00</th>\n",
       "      <td>10001</td>\n",
       "      <td>285.765</td>\n",
       "      <td>5.59570</td>\n",
       "      <td>788.879</td>\n",
       "      <td>7.43345</td>\n",
       "      <td>285.765</td>\n",
       "      <td>2.53870</td>\n",
       "      <td>2.53725</td>\n",
       "      <td>0.0</td>\n",
       "      <td>0.0</td>\n",
       "      <td>0.0</td>\n",
       "      <td>0.0</td>\n",
       "      <td>74.2574</td>\n",
       "      <td>500.0</td>\n",
       "    </tr>\n",
       "  </tbody>\n",
       "</table>\n",
       "</div>"
      ],
      "text/plain": [
       "                                  pool_id  salinity  turbidity      ORP  \\\n",
       "time_stamp                                                                \n",
       "2022-11-01 00:00:06.605000-04:00    10001   285.584    6.53613  788.607   \n",
       "2022-11-01 00:00:16.661000-04:00    10001   285.638    6.37939  788.879   \n",
       "2022-11-01 00:00:26.768000-04:00    10001   285.855    5.75244  788.336   \n",
       "2022-11-01 00:00:36.834000-04:00    10001   285.855    5.59570  788.065   \n",
       "2022-11-01 00:00:46.936000-04:00    10001   285.765    5.59570  788.879   \n",
       "\n",
       "                                       PH      TDS  Pressure in  Pressure out  \\\n",
       "time_stamp                                                                      \n",
       "2022-11-01 00:00:06.605000-04:00  7.46826  285.584      2.53725       2.53545   \n",
       "2022-11-01 00:00:16.661000-04:00  7.46067  285.638      2.53780       2.53617   \n",
       "2022-11-01 00:00:26.768000-04:00  7.42585  285.873      2.53870       2.53743   \n",
       "2022-11-01 00:00:36.834000-04:00  7.43408  285.855      2.53852       2.53743   \n",
       "2022-11-01 00:00:46.936000-04:00  7.43345  285.765      2.53870       2.53725   \n",
       "\n",
       "                                  pump current  Fresh water  Drain  \\\n",
       "time_stamp                                                           \n",
       "2022-11-01 00:00:06.605000-04:00           0.0          0.0    0.0   \n",
       "2022-11-01 00:00:16.661000-04:00           0.0          0.0    0.0   \n",
       "2022-11-01 00:00:26.768000-04:00           0.0          0.0    0.0   \n",
       "2022-11-01 00:00:36.834000-04:00           0.0          0.0    0.0   \n",
       "2022-11-01 00:00:46.936000-04:00           0.0          0.0    0.0   \n",
       "\n",
       "                                  Human Counter  temperature  water level  \n",
       "time_stamp                                                                 \n",
       "2022-11-01 00:00:06.605000-04:00            0.0      74.2574        500.0  \n",
       "2022-11-01 00:00:16.661000-04:00            0.0      74.2574        500.0  \n",
       "2022-11-01 00:00:26.768000-04:00            0.0      74.2574        500.0  \n",
       "2022-11-01 00:00:36.834000-04:00            0.0      74.2574        500.0  \n",
       "2022-11-01 00:00:46.936000-04:00            0.0      74.2574        500.0  "
      ]
     },
     "execution_count": 10,
     "metadata": {},
     "output_type": "execute_result"
    }
   ],
   "source": [
    "df.set_index('time_stamp',inplace=True)\n",
    "df.head()"
   ]
  },
  {
   "cell_type": "code",
   "execution_count": 11,
   "metadata": {},
   "outputs": [
    {
     "data": {
      "text/plain": [
       "datetime.datetime(2022, 11, 1, 0, 0, 6, 605000, tzinfo=tzoffset(None, -14400))"
      ]
     },
     "execution_count": 11,
     "metadata": {},
     "output_type": "execute_result"
    }
   ],
   "source": [
    "df.index[0]"
   ]
  },
  {
   "cell_type": "code",
   "execution_count": 40,
   "metadata": {},
   "outputs": [],
   "source": [
    "def summary(time,data,parameter,diff):\n",
    "    df = data\n",
    "    time = pd.to_datetime(time)\n",
    "    time_diff= time-pd.Timedelta(diff)\n",
    "\n",
    "    df_summary = df.loc[time_diff: time]\n",
    "\n",
    "\n",
    "    df_summary.plot(y=parameter, use_index=True)\n",
    "    max_parameter = max(df_summary[parameter])\n",
    "    min_parameter = min(df_summary[parameter])\n",
    "    avg_parameter = df_summary[parameter].mean()\n",
    "    \n",
    "    print(f\"\"\"\n",
    "            In the past {diff} from {time_diff.floor('S')} to {time.floor('S')} this information was recorded:\\n\n",
    "            Avg {parameter}: {avg_parameter:.2f} \\n\n",
    "            Max {parameter}: {max_parameter:.2f} \\n \n",
    "            Min {parameter}: {min_parameter:.2f} \\n\n",
    "            Total {parameter} measurements: {len(df_summary)}\\n\n",
    "            \"\"\")\n",
    "    "
   ]
  },
  {
   "cell_type": "code",
   "execution_count": 41,
   "metadata": {},
   "outputs": [
    {
     "data": {
      "text/plain": [
       "<AxesSubplot:xlabel='time_stamp'>"
      ]
     },
     "execution_count": 41,
     "metadata": {},
     "output_type": "execute_result"
    },
    {
     "data": {
      "image/png": "[encoded data removed]",
      "text/plain": [
       "<Figure size 432x288 with 1 Axes>"
      ]
     },
     "metadata": {
      "needs_background": "light"
     },
     "output_type": "display_data"
    }
   ],
   "source": [
    "df.plot(y='PH', use_index=True)"
   ]
  },
  {
   "cell_type": "code",
   "execution_count": 45,
   "metadata": {},
   "outputs": [
    {
     "name": "stdout",
     "output_type": "stream",
     "text": [
      "\n",
      "            In the past 24 hours from 2022-11-02 00:00:06-04:00 to 2022-11-03 00:00:06-04:00 this information was recorded:\n",
      "\n",
      "            Avg PH: 7.40 \n",
      "\n",
      "            Max PH: 7.45 \n",
      " \n",
      "            Min PH: 7.34 \n",
      "\n",
      "            Total PH measurements: 8622\n",
      "\n",
      "            \n"
     ]
    },
    {
     "data": {
      "image/png": "[encoded data removed]",
      "text/plain": [
       "<Figure size 432x288 with 1 Axes>"
      ]
     },
     "metadata": {
      "needs_background": "light"
     },
     "output_type": "display_data"
    }
   ],
   "source": [
    "summary('2022-11-03 00:00:06.605000-04:00', df,'PH','24 hours')"
   ]
  }
 ],
 "metadata": {
  "kernelspec": {
   "display_name": "Python 3",
   "language": "python",
   "name": "python3"
  },
  "language_info": {
   "codemirror_mode": {
    "name": "ipython",
    "version": 3
   },
   "file_extension": ".py",
   "mimetype": "text/x-python",
   "name": "python",
   "nbconvert_exporter": "python",
   "pygments_lexer": "ipython3",
   "version": "3.8.5"
  }
 },
 "nbformat": 4,
 "nbformat_minor": 4
}
