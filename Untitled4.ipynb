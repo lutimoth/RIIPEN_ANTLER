{
 "cells": [
  {
   "cell_type": "code",
   "execution_count": 1,
   "id": "c268008e",
   "metadata": {},
   "outputs": [],
   "source": [
    "import pandas as pd\n",
    "import numpy as np\n",
    "import datetime as dt\n",
    "import matplotlib.pyplot as plt\n",
    "import os\n",
    "import matplotlib.pyplot as plt\n",
    "import seaborn as sns\n",
    "import warnings\n",
    "warnings.filterwarnings('ignore')"
   ]
  },
  {
   "cell_type": "code",
   "execution_count": 2,
   "id": "fc5b0fad",
   "metadata": {},
   "outputs": [],
   "source": [
    "pooldata=pd.read_csv('pool_data_202211111622-04_500-20221101.csv', sep=',')"
   ]
  },
  {
   "cell_type": "code",
   "execution_count": 3,
   "id": "cdbe6dfd",
   "metadata": {},
   "outputs": [
    {
     "name": "stdout",
     "output_type": "stream",
     "text": [
      "<class 'pandas.core.frame.DataFrame'>\n",
      "RangeIndex: 39668 entries, 0 to 39667\n",
      "Data columns (total 28 columns):\n",
      " #   Column                 Non-Null Count  Dtype  \n",
      "---  ------                 --------------  -----  \n",
      " 0   pool_id                39668 non-null  int64  \n",
      " 1   time_stamp             39668 non-null  object \n",
      " 2   t_s Right              39668 non-null  int64  \n",
      " 3   salinity               39637 non-null  float64\n",
      " 4   flow switch            31 non-null     float64\n",
      " 5   flow meter             0 non-null      float64\n",
      " 6   turbidity              39637 non-null  float64\n",
      " 7   ORP                    39668 non-null  float64\n",
      " 8   PH                     39668 non-null  float64\n",
      " 9   TDS                    39637 non-null  float64\n",
      " 10  Pressure in tank       0 non-null      float64\n",
      " 11  Pressure in            39637 non-null  float64\n",
      " 12  Pressure out           39637 non-null  float64\n",
      " 13  Pump RPM               0 non-null      float64\n",
      " 14  pump current           39637 non-null  float64\n",
      " 15  dis_feeder             0 non-null      float64\n",
      " 16  ph_feeder              0 non-null      float64\n",
      " 17  Fresh water            39637 non-null  float64\n",
      " 18  Shw msg                0 non-null      float64\n",
      " 19  Drain                  39637 non-null  float64\n",
      " 20  Human Counter          39637 non-null  float64\n",
      " 21  temperature            39668 non-null  float64\n",
      " 22  water level            39637 non-null  float64\n",
      " 23  cppm                   31 non-null     float64\n",
      " 24  phfeedtime             0 non-null      float64\n",
      " 25  orpfeedtime            0 non-null      float64\n",
      " 26  bather in from mens    0 non-null      float64\n",
      " 27  bather in from ladies  0 non-null      float64\n",
      "dtypes: float64(25), int64(2), object(1)\n",
      "memory usage: 8.5+ MB\n"
     ]
    }
   ],
   "source": [
    "pooldata.info()"
   ]
  },
  {
   "cell_type": "code",
   "execution_count": 4,
   "id": "7698152c",
   "metadata": {},
   "outputs": [
    {
     "data": {
      "text/plain": "       pool_id           time_stamp  t_s Right  salinity  flow switch  \\\n0        10001  2022-11-01 11:01:16       -400   287.175          NaN   \n1        10001  2022-11-01 11:01:26       -400   287.175          NaN   \n2        10001  2022-11-01 11:01:36       -400   287.121          NaN   \n3        10001  2022-11-01 11:01:46       -400   287.248          NaN   \n4        10001  2022-11-01 11:01:57       -400   287.175          NaN   \n...        ...                  ...        ...       ...          ...   \n39663    10001  2022-11-07 21:59:25       -500   286.054          NaN   \n39664    10001  2022-11-07 21:59:35       -500   286.018          NaN   \n39665    10001  2022-11-07 22:59:44       -500   285.294          NaN   \n39666    10001  2022-11-07 22:59:54       -500   285.258          NaN   \n39667    10001  2022-11-07 23:59:54       -500   284.661          NaN   \n\n       flow meter  turbidity      ORP       PH      TDS  ...  Shw msg  Drain  \\\n0             NaN    9.51440  774.049  7.41573  287.175  ...      NaN    0.0   \n1             NaN    9.35767  773.597  7.41573  287.175  ...      NaN    0.0   \n2             NaN    9.35767  773.869  7.41889  287.121  ...      NaN    0.0   \n3             NaN    8.57397  773.959  7.41193  287.248  ...      NaN    0.0   \n4             NaN    8.88745  773.597  7.41699  287.157  ...      NaN    0.0   \n...           ...        ...      ...      ...      ...  ...      ...    ...   \n39663         NaN   31.27080  719.615  7.60182  286.054  ...      NaN    0.0   \n39664         NaN   31.11380  719.434  7.58536  286.018  ...      NaN    0.0   \n39665         NaN   31.27080  717.083  7.58916  285.294  ...      NaN    0.0   \n39666         NaN   30.95700  717.355  7.59422  285.258  ...      NaN    0.0   \n39667         NaN   31.11380  715.184  7.57650  284.661  ...      NaN    0.0   \n\n       Human Counter  temperature  water level  cppm  phfeedtime  orpfeedtime  \\\n0                0.0      74.2574        500.0   NaN         NaN          NaN   \n1                0.0      74.2574        500.0   NaN         NaN          NaN   \n2                0.0      74.2574        500.0   NaN         NaN          NaN   \n3                0.0      74.2574        500.0   NaN         NaN          NaN   \n4                0.0      74.2574        500.0   NaN         NaN          NaN   \n...              ...          ...          ...   ...         ...          ...   \n39663            0.0      74.2574        500.0   NaN         NaN          NaN   \n39664            0.0      74.2574        500.0   NaN         NaN          NaN   \n39665            0.0      74.2574        500.0   NaN         NaN          NaN   \n39666            0.0      74.2574        500.0   NaN         NaN          NaN   \n39667            0.0      74.2574        500.0   NaN         NaN          NaN   \n\n       bather in from mens  bather in from ladies  \n0                      NaN                    NaN  \n1                      NaN                    NaN  \n2                      NaN                    NaN  \n3                      NaN                    NaN  \n4                      NaN                    NaN  \n...                    ...                    ...  \n39663                  NaN                    NaN  \n39664                  NaN                    NaN  \n39665                  NaN                    NaN  \n39666                  NaN                    NaN  \n39667                  NaN                    NaN  \n\n[39668 rows x 28 columns]",
      "text/html": "<div>\n<style scoped>\n    .dataframe tbody tr th:only-of-type {\n        vertical-align: middle;\n    }\n\n    .dataframe tbody tr th {\n        vertical-align: top;\n    }\n\n    .dataframe thead th {\n        text-align: right;\n    }\n</style>\n<table border=\"1\" class=\"dataframe\">\n  <thead>\n    <tr style=\"text-align: right;\">\n      <th></th>\n      <th>pool_id</th>\n      <th>time_stamp</th>\n      <th>t_s Right</th>\n      <th>salinity</th>\n      <th>flow switch</th>\n      <th>flow meter</th>\n      <th>turbidity</th>\n      <th>ORP</th>\n      <th>PH</th>\n      <th>TDS</th>\n      <th>...</th>\n      <th>Shw msg</th>\n      <th>Drain</th>\n      <th>Human Counter</th>\n      <th>temperature</th>\n      <th>water level</th>\n      <th>cppm</th>\n      <th>phfeedtime</th>\n      <th>orpfeedtime</th>\n      <th>bather in from mens</th>\n      <th>bather in from ladies</th>\n    </tr>\n  </thead>\n  <tbody>\n    <tr>\n      <th>0</th>\n      <td>10001</td>\n      <td>2022-11-01 11:01:16</td>\n      <td>-400</td>\n      <td>287.175</td>\n      <td>NaN</td>\n      <td>NaN</td>\n      <td>9.51440</td>\n      <td>774.049</td>\n      <td>7.41573</td>\n      <td>287.175</td>\n      <td>...</td>\n      <td>NaN</td>\n      <td>0.0</td>\n      <td>0.0</td>\n      <td>74.2574</td>\n      <td>500.0</td>\n      <td>NaN</td>\n      <td>NaN</td>\n      <td>NaN</td>\n      <td>NaN</td>\n      <td>NaN</td>\n    </tr>\n    <tr>\n      <th>1</th>\n      <td>10001</td>\n      <td>2022-11-01 11:01:26</td>\n      <td>-400</td>\n      <td>287.175</td>\n      <td>NaN</td>\n      <td>NaN</td>\n      <td>9.35767</td>\n      <td>773.597</td>\n      <td>7.41573</td>\n      <td>287.175</td>\n      <td>...</td>\n      <td>NaN</td>\n      <td>0.0</td>\n      <td>0.0</td>\n      <td>74.2574</td>\n      <td>500.0</td>\n      <td>NaN</td>\n      <td>NaN</td>\n      <td>NaN</td>\n      <td>NaN</td>\n      <td>NaN</td>\n    </tr>\n    <tr>\n      <th>2</th>\n      <td>10001</td>\n      <td>2022-11-01 11:01:36</td>\n      <td>-400</td>\n      <td>287.121</td>\n      <td>NaN</td>\n      <td>NaN</td>\n      <td>9.35767</td>\n      <td>773.869</td>\n      <td>7.41889</td>\n      <td>287.121</td>\n      <td>...</td>\n      <td>NaN</td>\n      <td>0.0</td>\n      <td>0.0</td>\n      <td>74.2574</td>\n      <td>500.0</td>\n      <td>NaN</td>\n      <td>NaN</td>\n      <td>NaN</td>\n      <td>NaN</td>\n      <td>NaN</td>\n    </tr>\n    <tr>\n      <th>3</th>\n      <td>10001</td>\n      <td>2022-11-01 11:01:46</td>\n      <td>-400</td>\n      <td>287.248</td>\n      <td>NaN</td>\n      <td>NaN</td>\n      <td>8.57397</td>\n      <td>773.959</td>\n      <td>7.41193</td>\n      <td>287.248</td>\n      <td>...</td>\n      <td>NaN</td>\n      <td>0.0</td>\n      <td>0.0</td>\n      <td>74.2574</td>\n      <td>500.0</td>\n      <td>NaN</td>\n      <td>NaN</td>\n      <td>NaN</td>\n      <td>NaN</td>\n      <td>NaN</td>\n    </tr>\n    <tr>\n      <th>4</th>\n      <td>10001</td>\n      <td>2022-11-01 11:01:57</td>\n      <td>-400</td>\n      <td>287.175</td>\n      <td>NaN</td>\n      <td>NaN</td>\n      <td>8.88745</td>\n      <td>773.597</td>\n      <td>7.41699</td>\n      <td>287.157</td>\n      <td>...</td>\n      <td>NaN</td>\n      <td>0.0</td>\n      <td>0.0</td>\n      <td>74.2574</td>\n      <td>500.0</td>\n      <td>NaN</td>\n      <td>NaN</td>\n      <td>NaN</td>\n      <td>NaN</td>\n      <td>NaN</td>\n    </tr>\n    <tr>\n      <th>...</th>\n      <td>...</td>\n      <td>...</td>\n      <td>...</td>\n      <td>...</td>\n      <td>...</td>\n      <td>...</td>\n      <td>...</td>\n      <td>...</td>\n      <td>...</td>\n      <td>...</td>\n      <td>...</td>\n      <td>...</td>\n      <td>...</td>\n      <td>...</td>\n      <td>...</td>\n      <td>...</td>\n      <td>...</td>\n      <td>...</td>\n      <td>...</td>\n      <td>...</td>\n      <td>...</td>\n    </tr>\n    <tr>\n      <th>39663</th>\n      <td>10001</td>\n      <td>2022-11-07 21:59:25</td>\n      <td>-500</td>\n      <td>286.054</td>\n      <td>NaN</td>\n      <td>NaN</td>\n      <td>31.27080</td>\n      <td>719.615</td>\n      <td>7.60182</td>\n      <td>286.054</td>\n      <td>...</td>\n      <td>NaN</td>\n      <td>0.0</td>\n      <td>0.0</td>\n      <td>74.2574</td>\n      <td>500.0</td>\n      <td>NaN</td>\n      <td>NaN</td>\n      <td>NaN</td>\n      <td>NaN</td>\n      <td>NaN</td>\n    </tr>\n    <tr>\n      <th>39664</th>\n      <td>10001</td>\n      <td>2022-11-07 21:59:35</td>\n      <td>-500</td>\n      <td>286.018</td>\n      <td>NaN</td>\n      <td>NaN</td>\n      <td>31.11380</td>\n      <td>719.434</td>\n      <td>7.58536</td>\n      <td>286.018</td>\n      <td>...</td>\n      <td>NaN</td>\n      <td>0.0</td>\n      <td>0.0</td>\n      <td>74.2574</td>\n      <td>500.0</td>\n      <td>NaN</td>\n      <td>NaN</td>\n      <td>NaN</td>\n      <td>NaN</td>\n      <td>NaN</td>\n    </tr>\n    <tr>\n      <th>39665</th>\n      <td>10001</td>\n      <td>2022-11-07 22:59:44</td>\n      <td>-500</td>\n      <td>285.294</td>\n      <td>NaN</td>\n      <td>NaN</td>\n      <td>31.27080</td>\n      <td>717.083</td>\n      <td>7.58916</td>\n      <td>285.294</td>\n      <td>...</td>\n      <td>NaN</td>\n      <td>0.0</td>\n      <td>0.0</td>\n      <td>74.2574</td>\n      <td>500.0</td>\n      <td>NaN</td>\n      <td>NaN</td>\n      <td>NaN</td>\n      <td>NaN</td>\n      <td>NaN</td>\n    </tr>\n    <tr>\n      <th>39666</th>\n      <td>10001</td>\n      <td>2022-11-07 22:59:54</td>\n      <td>-500</td>\n      <td>285.258</td>\n      <td>NaN</td>\n      <td>NaN</td>\n      <td>30.95700</td>\n      <td>717.355</td>\n      <td>7.59422</td>\n      <td>285.258</td>\n      <td>...</td>\n      <td>NaN</td>\n      <td>0.0</td>\n      <td>0.0</td>\n      <td>74.2574</td>\n      <td>500.0</td>\n      <td>NaN</td>\n      <td>NaN</td>\n      <td>NaN</td>\n      <td>NaN</td>\n      <td>NaN</td>\n    </tr>\n    <tr>\n      <th>39667</th>\n      <td>10001</td>\n      <td>2022-11-07 23:59:54</td>\n      <td>-500</td>\n      <td>284.661</td>\n      <td>NaN</td>\n      <td>NaN</td>\n      <td>31.11380</td>\n      <td>715.184</td>\n      <td>7.57650</td>\n      <td>284.661</td>\n      <td>...</td>\n      <td>NaN</td>\n      <td>0.0</td>\n      <td>0.0</td>\n      <td>74.2574</td>\n      <td>500.0</td>\n      <td>NaN</td>\n      <td>NaN</td>\n      <td>NaN</td>\n      <td>NaN</td>\n      <td>NaN</td>\n    </tr>\n  </tbody>\n</table>\n<p>39668 rows × 28 columns</p>\n</div>"
     },
     "execution_count": 4,
     "metadata": {},
     "output_type": "execute_result"
    }
   ],
   "source": [
    "pooldata"
   ]
  },
  {
   "cell_type": "code",
   "execution_count": 5,
   "id": "18241da2",
   "metadata": {},
   "outputs": [
    {
     "data": {
      "text/plain": "<AxesSubplot:>"
     },
     "execution_count": 5,
     "metadata": {},
     "output_type": "execute_result"
    },
    {
     "data": {
      "text/plain": "<Figure size 640x480 with 1 Axes>",
      "image/png": "[encoded data removed]"
     },
     "metadata": {},
     "output_type": "display_data"
    }
   ],
   "source": [
    "pooldata[['PH']].boxplot()"
   ]
  },
  {
   "cell_type": "code",
   "execution_count": 6,
   "id": "3309d4bd",
   "metadata": {},
   "outputs": [
    {
     "data": {
      "text/plain": "<AxesSubplot:>"
     },
     "execution_count": 6,
     "metadata": {},
     "output_type": "execute_result"
    }
   ],
   "source": [
    "pooldata.loc[(pooldata['PH']<9) & (pooldata['PH']>5),'PH'].hist( bins=50)"
   ]
  },
  {
   "cell_type": "code",
   "execution_count": 7,
   "id": "87929ff3",
   "metadata": {},
   "outputs": [
    {
     "data": {
      "text/plain": "count    33180.000000\nmean         7.418791\nstd          0.183121\nmin          5.113690\n25%          7.399270\n50%          7.423320\n75%          7.456870\nmax          8.914570\nName: PH, dtype: float64"
     },
     "execution_count": 7,
     "metadata": {},
     "output_type": "execute_result"
    }
   ],
   "source": [
    "pooldata.loc[(pooldata['PH']<9) & (pooldata['PH']>5),'PH'].describe()"
   ]
  },
  {
   "cell_type": "code",
   "execution_count": 8,
   "id": "0b7bb852",
   "metadata": {},
   "outputs": [],
   "source": [
    "pooldata['time_stamp']=pd.to_datetime(pooldata['time_stamp'],format='%Y-%m-%d %H:%M:%S')"
   ]
  },
  {
   "cell_type": "code",
   "execution_count": 9,
   "id": "3449cefd",
   "metadata": {},
   "outputs": [],
   "source": [
    "colume=['salinity','turbidity','ORP','PH','TDS','Pressure in','Pressure in','Pressure out','pump current','Human Counter','temperature','water level']"
   ]
  },
  {
   "cell_type": "code",
   "execution_count": 10,
   "id": "ff118ee0",
   "metadata": {},
   "outputs": [],
   "source": [
    "def scatterplots(columns, ncol=None, figsize=(15, 8)):\n",
    "    if ncol is None:\n",
    "        ncol = len(columns)\n",
    "    nrow = int(np.ceil(len(columns) / ncol))\n",
    "    fig, axes = plt.subplots(nrow, ncol, figsize=figsize, squeeze=False)\n",
    "    fig.subplots_adjust(wspace=0.5, hspace=0.6)\n",
    "    for i, col in enumerate(columns):\n",
    "        ax = axes.flatten()[i]\n",
    "        ax.scatter(x = 'time_stamp', y = col, data=pooldata, alpha=0.5)\n",
    "        ax.set(xlabel='time_stamp', ylabel=col)\n",
    "        ax.tick_params(axis='x', labelrotation=45)\n",
    "    nsubplots = nrow * ncol    \n",
    "    for empty in range(i+1, nsubplots):\n",
    "        axes.flatten()[empty].set_visible(False)"
   ]
  },
  {
   "cell_type": "code",
   "execution_count": 11,
   "id": "f60d2aa3",
   "metadata": {},
   "outputs": [],
   "source": [
    "scatterplots(colume, ncol=3, figsize=(15, 15))"
   ]
  },
  {
   "cell_type": "code",
   "execution_count": 12,
   "id": "4831da57",
   "metadata": {},
   "outputs": [],
   "source": [
    "import pandas_profiling"
   ]
  },
  {
   "cell_type": "code",
   "execution_count": 13,
   "outputs": [],
   "source": [
    "pools_report=pandas_profiling.ProfileReport(pooldata)"
   ],
   "metadata": {
    "collapsed": false
   }
  },
  {
   "cell_type": "code",
   "execution_count": 14,
   "outputs": [
    {
     "data": {
      "text/plain": "Summarize dataset:   0%|          | 0/5 [00:00<?, ?it/s]",
      "application/vnd.jupyter.widget-view+json": {
       "version_major": 2,
       "version_minor": 0,
       "model_id": "96bcb2eb0e4e4a73a8281778fb1e73b2"
      }
     },
     "metadata": {},
     "output_type": "display_data"
    },
    {
     "data": {
      "text/plain": "Generate report structure:   0%|          | 0/1 [00:00<?, ?it/s]",
      "application/vnd.jupyter.widget-view+json": {
       "version_major": 2,
       "version_minor": 0,
       "model_id": "9d1966e9eb2a43a889e95ad12f35c2cf"
      }
     },
     "metadata": {},
     "output_type": "display_data"
    },
    {
     "data": {
      "text/plain": "Render HTML:   0%|          | 0/1 [00:00<?, ?it/s]",
      "application/vnd.jupyter.widget-view+json": {
       "version_major": 2,
       "version_minor": 0,
       "model_id": "050db20e65ad49da97f1f3f6b784a1ce"
      }
     },
     "metadata": {},
     "output_type": "display_data"
    },
    {
     "data": {
      "text/plain": "Export report to file:   0%|          | 0/1 [00:00<?, ?it/s]",
      "application/vnd.jupyter.widget-view+json": {
       "version_major": 2,
       "version_minor": 0,
       "model_id": "62f6d0cbb0f54b3385d0cd3ff4a89c18"
      }
     },
     "metadata": {},
     "output_type": "display_data"
    }
   ],
   "source": [
    "pools_report.to_file('pools_report-clean.html')"
   ],
   "metadata": {
    "collapsed": false
   }
  },
  {
   "cell_type": "code",
   "execution_count": null,
   "outputs": [],
   "source": [],
   "metadata": {
    "collapsed": false
   }
  }
 ],
 "metadata": {
  "kernelspec": {
   "display_name": "Python 3 (ipykernel)",
   "language": "python",
   "name": "python3"
  },
  "language_info": {
   "codemirror_mode": {
    "name": "ipython",
    "version": 3
   },
   "file_extension": ".py",
   "mimetype": "text/x-python",
   "name": "python",
   "nbconvert_exporter": "python",
   "pygments_lexer": "ipython3",
   "version": "3.7.12"
  },
  "vscode": {
   "interpreter": {
    "hash": "c261aea317cc0286b3b3261fbba9abdec21eaa57589985bb7a274bf54d6cc0a7"
   }
  }
 },
 "nbformat": 4,
 "nbformat_minor": 5
}
