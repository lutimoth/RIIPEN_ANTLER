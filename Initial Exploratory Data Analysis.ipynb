{
 "cells": [
  {
   "cell_type": "code",
   "execution_count": 1,
   "metadata": {},
   "outputs": [],
   "source": [
    "import pandas as pd\n",
    "import numpy as np\n",
    "import datetime as dt\n",
    "import matplotlib.pyplot as plt\n",
    "import os\n",
    "import matplotlib.pyplot as plt\n",
    "import seaborn as sns\n",
    "import warnings\n",
    "warnings.filterwarnings('ignore')"
   ]
  },
  {
   "cell_type": "code",
   "execution_count": 2,
   "metadata": {},
   "outputs": [],
   "source": [
    "pooldata=pd.read_csv('pool_data_202211111622.csv', sep=',')"
   ]
  },
  {
   "cell_type": "code",
   "execution_count": 3,
   "metadata": {},
   "outputs": [
    {
     "data": {
      "text/html": [
       "<div>\n",
       "<style scoped>\n",
       "    .dataframe tbody tr th:only-of-type {\n",
       "        vertical-align: middle;\n",
       "    }\n",
       "\n",
       "    .dataframe tbody tr th {\n",
       "        vertical-align: top;\n",
       "    }\n",
       "\n",
       "    .dataframe thead th {\n",
       "        text-align: right;\n",
       "    }\n",
       "</style>\n",
       "<table border=\"1\" class=\"dataframe\">\n",
       "  <thead>\n",
       "    <tr style=\"text-align: right;\">\n",
       "      <th></th>\n",
       "      <th>pool_id</th>\n",
       "      <th>time_stamp</th>\n",
       "      <th>salinity</th>\n",
       "      <th>flow switch</th>\n",
       "      <th>flow meter</th>\n",
       "      <th>turbidity</th>\n",
       "      <th>ORP</th>\n",
       "      <th>PH</th>\n",
       "      <th>TDS</th>\n",
       "      <th>Pressure in tank</th>\n",
       "      <th>...</th>\n",
       "      <th>Shw msg</th>\n",
       "      <th>Drain</th>\n",
       "      <th>Human Counter</th>\n",
       "      <th>temperature</th>\n",
       "      <th>water level</th>\n",
       "      <th>cppm</th>\n",
       "      <th>phfeedtime</th>\n",
       "      <th>orpfeedtime</th>\n",
       "      <th>bather in from mens</th>\n",
       "      <th>bather in from ladies</th>\n",
       "    </tr>\n",
       "  </thead>\n",
       "  <tbody>\n",
       "    <tr>\n",
       "      <th>0</th>\n",
       "      <td>10001</td>\n",
       "      <td>2022-11-01 11:01:16.220 -0400</td>\n",
       "      <td>287.175</td>\n",
       "      <td>NaN</td>\n",
       "      <td>NaN</td>\n",
       "      <td>9.51440</td>\n",
       "      <td>774.049</td>\n",
       "      <td>7.41573</td>\n",
       "      <td>287.175</td>\n",
       "      <td>NaN</td>\n",
       "      <td>...</td>\n",
       "      <td>NaN</td>\n",
       "      <td>0.0</td>\n",
       "      <td>0.0</td>\n",
       "      <td>74.2574</td>\n",
       "      <td>500.0</td>\n",
       "      <td>NaN</td>\n",
       "      <td>NaN</td>\n",
       "      <td>NaN</td>\n",
       "      <td>NaN</td>\n",
       "      <td>NaN</td>\n",
       "    </tr>\n",
       "    <tr>\n",
       "      <th>1</th>\n",
       "      <td>10001</td>\n",
       "      <td>2022-11-01 11:01:26.323 -0400</td>\n",
       "      <td>287.175</td>\n",
       "      <td>NaN</td>\n",
       "      <td>NaN</td>\n",
       "      <td>9.35767</td>\n",
       "      <td>773.597</td>\n",
       "      <td>7.41573</td>\n",
       "      <td>287.175</td>\n",
       "      <td>NaN</td>\n",
       "      <td>...</td>\n",
       "      <td>NaN</td>\n",
       "      <td>0.0</td>\n",
       "      <td>0.0</td>\n",
       "      <td>74.2574</td>\n",
       "      <td>500.0</td>\n",
       "      <td>NaN</td>\n",
       "      <td>NaN</td>\n",
       "      <td>NaN</td>\n",
       "      <td>NaN</td>\n",
       "      <td>NaN</td>\n",
       "    </tr>\n",
       "    <tr>\n",
       "      <th>2</th>\n",
       "      <td>10001</td>\n",
       "      <td>2022-11-01 11:01:36.386 -0400</td>\n",
       "      <td>287.121</td>\n",
       "      <td>NaN</td>\n",
       "      <td>NaN</td>\n",
       "      <td>9.35767</td>\n",
       "      <td>773.869</td>\n",
       "      <td>7.41889</td>\n",
       "      <td>287.121</td>\n",
       "      <td>NaN</td>\n",
       "      <td>...</td>\n",
       "      <td>NaN</td>\n",
       "      <td>0.0</td>\n",
       "      <td>0.0</td>\n",
       "      <td>74.2574</td>\n",
       "      <td>500.0</td>\n",
       "      <td>NaN</td>\n",
       "      <td>NaN</td>\n",
       "      <td>NaN</td>\n",
       "      <td>NaN</td>\n",
       "      <td>NaN</td>\n",
       "    </tr>\n",
       "    <tr>\n",
       "      <th>3</th>\n",
       "      <td>10001</td>\n",
       "      <td>2022-11-01 11:01:46.498 -0400</td>\n",
       "      <td>287.248</td>\n",
       "      <td>NaN</td>\n",
       "      <td>NaN</td>\n",
       "      <td>8.57397</td>\n",
       "      <td>773.959</td>\n",
       "      <td>7.41193</td>\n",
       "      <td>287.248</td>\n",
       "      <td>NaN</td>\n",
       "      <td>...</td>\n",
       "      <td>NaN</td>\n",
       "      <td>0.0</td>\n",
       "      <td>0.0</td>\n",
       "      <td>74.2574</td>\n",
       "      <td>500.0</td>\n",
       "      <td>NaN</td>\n",
       "      <td>NaN</td>\n",
       "      <td>NaN</td>\n",
       "      <td>NaN</td>\n",
       "      <td>NaN</td>\n",
       "    </tr>\n",
       "    <tr>\n",
       "      <th>4</th>\n",
       "      <td>10001</td>\n",
       "      <td>2022-11-01 11:01:56.554 -0400</td>\n",
       "      <td>287.175</td>\n",
       "      <td>NaN</td>\n",
       "      <td>NaN</td>\n",
       "      <td>8.88745</td>\n",
       "      <td>773.597</td>\n",
       "      <td>7.41699</td>\n",
       "      <td>287.157</td>\n",
       "      <td>NaN</td>\n",
       "      <td>...</td>\n",
       "      <td>NaN</td>\n",
       "      <td>0.0</td>\n",
       "      <td>0.0</td>\n",
       "      <td>74.2574</td>\n",
       "      <td>500.0</td>\n",
       "      <td>NaN</td>\n",
       "      <td>NaN</td>\n",
       "      <td>NaN</td>\n",
       "      <td>NaN</td>\n",
       "      <td>NaN</td>\n",
       "    </tr>\n",
       "  </tbody>\n",
       "</table>\n",
       "<p>5 rows × 27 columns</p>\n",
       "</div>"
      ],
      "text/plain": [
       "   pool_id                     time_stamp  salinity  flow switch  flow meter  \\\n",
       "0    10001  2022-11-01 11:01:16.220 -0400   287.175          NaN         NaN   \n",
       "1    10001  2022-11-01 11:01:26.323 -0400   287.175          NaN         NaN   \n",
       "2    10001  2022-11-01 11:01:36.386 -0400   287.121          NaN         NaN   \n",
       "3    10001  2022-11-01 11:01:46.498 -0400   287.248          NaN         NaN   \n",
       "4    10001  2022-11-01 11:01:56.554 -0400   287.175          NaN         NaN   \n",
       "\n",
       "   turbidity      ORP       PH      TDS  Pressure in tank  ...  Shw msg  \\\n",
       "0    9.51440  774.049  7.41573  287.175               NaN  ...      NaN   \n",
       "1    9.35767  773.597  7.41573  287.175               NaN  ...      NaN   \n",
       "2    9.35767  773.869  7.41889  287.121               NaN  ...      NaN   \n",
       "3    8.57397  773.959  7.41193  287.248               NaN  ...      NaN   \n",
       "4    8.88745  773.597  7.41699  287.157               NaN  ...      NaN   \n",
       "\n",
       "   Drain  Human Counter  temperature  water level  cppm  phfeedtime  \\\n",
       "0    0.0            0.0      74.2574        500.0   NaN         NaN   \n",
       "1    0.0            0.0      74.2574        500.0   NaN         NaN   \n",
       "2    0.0            0.0      74.2574        500.0   NaN         NaN   \n",
       "3    0.0            0.0      74.2574        500.0   NaN         NaN   \n",
       "4    0.0            0.0      74.2574        500.0   NaN         NaN   \n",
       "\n",
       "   orpfeedtime  bather in from mens  bather in from ladies  \n",
       "0          NaN                  NaN                    NaN  \n",
       "1          NaN                  NaN                    NaN  \n",
       "2          NaN                  NaN                    NaN  \n",
       "3          NaN                  NaN                    NaN  \n",
       "4          NaN                  NaN                    NaN  \n",
       "\n",
       "[5 rows x 27 columns]"
      ]
     },
     "execution_count": 3,
     "metadata": {},
     "output_type": "execute_result"
    }
   ],
   "source": [
    "pooldata.head()"
   ]
  },
  {
   "cell_type": "code",
   "execution_count": 4,
   "metadata": {},
   "outputs": [
    {
     "name": "stdout",
     "output_type": "stream",
     "text": [
      "<class 'pandas.core.frame.DataFrame'>\n",
      "RangeIndex: 43635 entries, 0 to 43634\n",
      "Data columns (total 27 columns):\n",
      " #   Column                 Non-Null Count  Dtype  \n",
      "---  ------                 --------------  -----  \n",
      " 0   pool_id                43635 non-null  int64  \n",
      " 1   time_stamp             43635 non-null  object \n",
      " 2   salinity               43604 non-null  float64\n",
      " 3   flow switch            31 non-null     float64\n",
      " 4   flow meter             0 non-null      float64\n",
      " 5   turbidity              43604 non-null  float64\n",
      " 6   ORP                    43635 non-null  float64\n",
      " 7   PH                     43635 non-null  float64\n",
      " 8   TDS                    43604 non-null  float64\n",
      " 9   Pressure in tank       0 non-null      float64\n",
      " 10  Pressure in            43604 non-null  float64\n",
      " 11  Pressure out           43604 non-null  float64\n",
      " 12  Pump RPM               0 non-null      float64\n",
      " 13  pump current           43604 non-null  float64\n",
      " 14  dis_feeder             0 non-null      float64\n",
      " 15  ph_feeder              0 non-null      float64\n",
      " 16  Fresh water            43604 non-null  float64\n",
      " 17  Shw msg                0 non-null      float64\n",
      " 18  Drain                  43604 non-null  float64\n",
      " 19  Human Counter          43604 non-null  float64\n",
      " 20  temperature            43635 non-null  float64\n",
      " 21  water level            43604 non-null  float64\n",
      " 22  cppm                   31 non-null     float64\n",
      " 23  phfeedtime             0 non-null      float64\n",
      " 24  orpfeedtime            0 non-null      float64\n",
      " 25  bather in from mens    0 non-null      float64\n",
      " 26  bather in from ladies  0 non-null      float64\n",
      "dtypes: float64(25), int64(1), object(1)\n",
      "memory usage: 9.0+ MB\n"
     ]
    }
   ],
   "source": [
    "pooldata.info()"
   ]
  },
  {
   "cell_type": "markdown",
   "metadata": {},
   "source": [
    "# Explanation of the terms"
   ]
  },
  {
   "cell_type": "markdown",
   "metadata": {},
   "source": [
    "### Non-Null Term"
   ]
  },
  {
   "cell_type": "markdown",
   "metadata": {},
   "source": [
    "pool_id: id of the pool\n",
    "\n",
    "time_stamp: the time in which the data is recorded\n",
    "\n",
    "salinity: the amount of salt dissolved in the water (g/kg in ppm)\n",
    "\n",
    "turbidity: measure of relative clarity of water (NTU)\n",
    "\n",
    "ORP: oxidation-reduction potential (mV)\n",
    "\n",
    "pH: acidity measurement (pH)\n",
    "\n",
    "TDS: total dissolved solid (mg/L in ppm)\n",
    "\n",
    "Pressure in: pressure measurement near the water inlet (probably in bar)\n",
    "\n",
    "Pressure out: pressure measurement near the water outlet (probably in bar)\n",
    "\n",
    "Pump current: \n",
    "\n",
    "Human Counter: \n",
    "\n",
    "temperature: temperature in the pool (in F)\n",
    "\n",
    "water level: level of water"
   ]
  },
  {
   "cell_type": "markdown",
   "metadata": {},
   "source": [
    "### Non-Null Term but are mostly 0"
   ]
  },
  {
   "cell_type": "markdown",
   "metadata": {},
   "source": [
    "Fresh water:\n",
    "\n",
    "Drain:"
   ]
  },
  {
   "cell_type": "markdown",
   "metadata": {},
   "source": [
    "### Null Term "
   ]
  },
  {
   "cell_type": "markdown",
   "metadata": {},
   "source": [
    "flow_switch: signal indicating water flow\n",
    "\n",
    "flow meter: the amount of water flow\n",
    "\n",
    "pressure in tank: pressure inside the pool (probably bar)\n",
    "\n",
    "Pump RPM: Rotation speed of pump (Rotation Per Minute)\n",
    "\n",
    "dis_feeder\n",
    "\n",
    "ph_feeder\n",
    "\n",
    "Shw msg\n",
    "\n",
    "cppm \n",
    "\n",
    "phfeedtime\n",
    "\n",
    "orpfeedtime\n",
    "\n",
    "bather in from mens\n",
    "\n",
    "bather in from ladies"
   ]
  },
  {
   "cell_type": "markdown",
   "metadata": {},
   "source": [
    "# Basic Criteria"
   ]
  },
  {
   "cell_type": "markdown",
   "metadata": {},
   "source": [
    "I don't fully know the criteria to keep a pool clean. I click on the link on our group Google Doc about the CDC guidelines and found these two requirements that I think we can work on."
   ]
  },
  {
   "cell_type": "markdown",
   "metadata": {},
   "source": [
    "CDC requirements:\n",
    "\n",
    "    Maintain free chlorine levels continuously between 1–3 parts per million.\n",
    "\n",
    "    Maintain the pH level of the water at 7.2–7.8."
   ]
  },
  {
   "cell_type": "markdown",
   "metadata": {},
   "source": [
    "There are probably more requirements. But I think we can first check the pH of the pool to see if it fits the requirement."
   ]
  },
  {
   "cell_type": "code",
   "execution_count": 5,
   "metadata": {},
   "outputs": [
    {
     "data": {
      "text/plain": [
       "<AxesSubplot:>"
      ]
     },
     "execution_count": 5,
     "metadata": {},
     "output_type": "execute_result"
    },
    {
     "data": {
      "image/png": "[encoded data removed]",
      "text/plain": [
       "<Figure size 432x288 with 1 Axes>"
      ]
     },
     "metadata": {
      "needs_background": "light"
     },
     "output_type": "display_data"
    }
   ],
   "source": [
    "pooldata[['PH']].boxplot()"
   ]
  },
  {
   "cell_type": "markdown",
   "metadata": {},
   "source": [
    "As you can see, the range in which the pH indicator varies quite a lot. It's difficult to say if this instrument error or that the pool is very poorly managed. I think there's probably some instrument error here because -10 to 0 pH is just unrealistic. At this point, your body will be burned by acid already. The majority of the pH data seems close to 7 so that's good. I'll check the histogram to see how it's distributed."
   ]
  },
  {
   "cell_type": "code",
   "execution_count": 6,
   "metadata": {},
   "outputs": [
    {
     "data": {
      "text/plain": [
       "<AxesSubplot:>"
      ]
     },
     "execution_count": 6,
     "metadata": {},
     "output_type": "execute_result"
    },
    {
     "data": {
      "image/png": "[encoded data removed]",
      "text/plain": [
       "<Figure size 432x288 with 1 Axes>"
      ]
     },
     "metadata": {
      "needs_background": "light"
     },
     "output_type": "display_data"
    }
   ],
   "source": [
    "pooldata.loc[(pooldata['PH']<9) & (pooldata['PH']>5),'PH'].hist( bins=50)"
   ]
  },
  {
   "cell_type": "code",
   "execution_count": 7,
   "metadata": {},
   "outputs": [
    {
     "data": {
      "text/plain": [
       "count    37147.000000\n",
       "mean         7.419715\n",
       "std          0.173115\n",
       "min          5.113690\n",
       "25%          7.401170\n",
       "50%          7.425220\n",
       "75%          7.454340\n",
       "max          8.914570\n",
       "Name: PH, dtype: float64"
      ]
     },
     "execution_count": 7,
     "metadata": {},
     "output_type": "execute_result"
    }
   ],
   "source": [
    "pooldata.loc[(pooldata['PH']<9) & (pooldata['PH']>5),'PH'].describe()"
   ]
  },
  {
   "cell_type": "markdown",
   "metadata": {},
   "source": [
    "Overall, we will need more information on the critaria of keeping the pool clean and the cost of them to make the project forward."
   ]
  },
  {
   "cell_type": "markdown",
   "metadata": {},
   "source": [
    "# Time Series"
   ]
  },
  {
   "cell_type": "markdown",
   "metadata": {},
   "source": [
    "Here I plot the non-null data with time to see how they vary during the week."
   ]
  },
  {
   "cell_type": "code",
   "execution_count": 8,
   "metadata": {},
   "outputs": [],
   "source": [
    "pooldata['time_stamp']=pd.to_datetime(pooldata['time_stamp'],format='%Y-%m-%d %H:%M:%S')"
   ]
  },
  {
   "cell_type": "code",
   "execution_count": 9,
   "metadata": {},
   "outputs": [],
   "source": [
    "colume=['salinity','turbidity','ORP','PH','TDS','Pressure in','Pressure in','Pressure out','pump current','Human Counter','temperature','water level']"
   ]
  },
  {
   "cell_type": "code",
   "execution_count": 10,
   "metadata": {},
   "outputs": [],
   "source": [
    "def scatterplots(columns, ncol=None, figsize=(15, 8)):\n",
    "    if ncol is None:\n",
    "        ncol = len(columns)\n",
    "    nrow = int(np.ceil(len(columns) / ncol))\n",
    "    fig, axes = plt.subplots(nrow, ncol, figsize=figsize, squeeze=False)\n",
    "    fig.subplots_adjust(wspace=0.5, hspace=0.6)\n",
    "    for i, col in enumerate(columns):\n",
    "        ax = axes.flatten()[i]\n",
    "        ax.scatter(x = 'time_stamp', y = col, data=pooldata, alpha=0.5)\n",
    "        ax.set(xlabel='time_stamp', ylabel=col)\n",
    "        ax.tick_params(axis='x', labelrotation=45)\n",
    "    nsubplots = nrow * ncol    \n",
    "    for empty in range(i+1, nsubplots):\n",
    "        axes.flatten()[empty].set_visible(False)"
   ]
  },
  {
   "cell_type": "code",
   "execution_count": 11,
   "metadata": {},
   "outputs": [
    {
     "data": {
      "image/png": "[encoded data removed]",
      "text/plain": [
       "<Figure size 1080x1080 with 12 Axes>"
      ]
     },
     "metadata": {
      "needs_background": "light"
     },
     "output_type": "display_data"
    }
   ],
   "source": [
    "scatterplots(colume, ncol=3, figsize=(15, 15))"
   ]
  },
  {
   "cell_type": "markdown",
   "metadata": {},
   "source": [
    "The signal is quite static across a week. I think if possible we should ask for more information about when new chemical is added into the pool. I think this information is supposed to be on the \"phfeedtime\" and \"orpfeedtime\". Unfortunately, we don't have any data in these columns for this pool."
   ]
  },
  {
   "cell_type": "code",
   "execution_count": null,
   "metadata": {},
   "outputs": [],
   "source": []
  },
  {
   "cell_type": "code",
   "execution_count": null,
   "metadata": {},
   "outputs": [],
   "source": []
  }
 ],
 "metadata": {
  "kernelspec": {
   "display_name": "Python 3",
   "language": "python",
   "name": "python3"
  },
  "language_info": {
   "codemirror_mode": {
    "name": "ipython",
    "version": 3
   },
   "file_extension": ".py",
   "mimetype": "text/x-python",
   "name": "python",
   "nbconvert_exporter": "python",
   "pygments_lexer": "ipython3",
   "version": "3.8.5"
  }
 },
 "nbformat": 4,
 "nbformat_minor": 4
}
