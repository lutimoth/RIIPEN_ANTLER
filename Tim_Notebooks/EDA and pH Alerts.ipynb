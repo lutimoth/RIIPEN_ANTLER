{
 "cells": [
  {
   "cell_type": "code",
   "execution_count": 2,
   "id": "66b75797",
   "metadata": {},
   "outputs": [],
   "source": [
    "import pandas as pd\n",
    "import numpy as np\n",
    "import matplotlib.pyplot as plt\n",
    "from tabulate import tabulate"
   ]
  },
  {
   "cell_type": "code",
   "execution_count": 3,
   "id": "048f9855",
   "metadata": {},
   "outputs": [],
   "source": [
    "df = pd.read_csv('../pool_data_202211111622.csv')"
   ]
  },
  {
   "cell_type": "code",
   "execution_count": 4,
   "id": "503732c0",
   "metadata": {},
   "outputs": [
    {
     "data": {
      "text/html": [
       "<div>\n",
       "<style scoped>\n",
       "    .dataframe tbody tr th:only-of-type {\n",
       "        vertical-align: middle;\n",
       "    }\n",
       "\n",
       "    .dataframe tbody tr th {\n",
       "        vertical-align: top;\n",
       "    }\n",
       "\n",
       "    .dataframe thead th {\n",
       "        text-align: right;\n",
       "    }\n",
       "</style>\n",
       "<table border=\"1\" class=\"dataframe\">\n",
       "  <thead>\n",
       "    <tr style=\"text-align: right;\">\n",
       "      <th></th>\n",
       "      <th>pool_id</th>\n",
       "      <th>time_stamp</th>\n",
       "      <th>salinity</th>\n",
       "      <th>flow switch</th>\n",
       "      <th>flow meter</th>\n",
       "      <th>turbidity</th>\n",
       "      <th>ORP</th>\n",
       "      <th>PH</th>\n",
       "      <th>TDS</th>\n",
       "      <th>Pressure in tank</th>\n",
       "      <th>...</th>\n",
       "      <th>Shw msg</th>\n",
       "      <th>Drain</th>\n",
       "      <th>Human Counter</th>\n",
       "      <th>temperature</th>\n",
       "      <th>water level</th>\n",
       "      <th>cppm</th>\n",
       "      <th>phfeedtime</th>\n",
       "      <th>orpfeedtime</th>\n",
       "      <th>bather in from mens</th>\n",
       "      <th>bather in from ladies</th>\n",
       "    </tr>\n",
       "  </thead>\n",
       "  <tbody>\n",
       "    <tr>\n",
       "      <th>0</th>\n",
       "      <td>10001</td>\n",
       "      <td>2022-11-01 11:01:16.220 -0400</td>\n",
       "      <td>287.175</td>\n",
       "      <td>NaN</td>\n",
       "      <td>NaN</td>\n",
       "      <td>9.51440</td>\n",
       "      <td>774.049</td>\n",
       "      <td>7.41573</td>\n",
       "      <td>287.175</td>\n",
       "      <td>NaN</td>\n",
       "      <td>...</td>\n",
       "      <td>NaN</td>\n",
       "      <td>0.0</td>\n",
       "      <td>0.0</td>\n",
       "      <td>74.2574</td>\n",
       "      <td>500.0</td>\n",
       "      <td>NaN</td>\n",
       "      <td>NaN</td>\n",
       "      <td>NaN</td>\n",
       "      <td>NaN</td>\n",
       "      <td>NaN</td>\n",
       "    </tr>\n",
       "    <tr>\n",
       "      <th>1</th>\n",
       "      <td>10001</td>\n",
       "      <td>2022-11-01 11:01:26.323 -0400</td>\n",
       "      <td>287.175</td>\n",
       "      <td>NaN</td>\n",
       "      <td>NaN</td>\n",
       "      <td>9.35767</td>\n",
       "      <td>773.597</td>\n",
       "      <td>7.41573</td>\n",
       "      <td>287.175</td>\n",
       "      <td>NaN</td>\n",
       "      <td>...</td>\n",
       "      <td>NaN</td>\n",
       "      <td>0.0</td>\n",
       "      <td>0.0</td>\n",
       "      <td>74.2574</td>\n",
       "      <td>500.0</td>\n",
       "      <td>NaN</td>\n",
       "      <td>NaN</td>\n",
       "      <td>NaN</td>\n",
       "      <td>NaN</td>\n",
       "      <td>NaN</td>\n",
       "    </tr>\n",
       "    <tr>\n",
       "      <th>2</th>\n",
       "      <td>10001</td>\n",
       "      <td>2022-11-01 11:01:36.386 -0400</td>\n",
       "      <td>287.121</td>\n",
       "      <td>NaN</td>\n",
       "      <td>NaN</td>\n",
       "      <td>9.35767</td>\n",
       "      <td>773.869</td>\n",
       "      <td>7.41889</td>\n",
       "      <td>287.121</td>\n",
       "      <td>NaN</td>\n",
       "      <td>...</td>\n",
       "      <td>NaN</td>\n",
       "      <td>0.0</td>\n",
       "      <td>0.0</td>\n",
       "      <td>74.2574</td>\n",
       "      <td>500.0</td>\n",
       "      <td>NaN</td>\n",
       "      <td>NaN</td>\n",
       "      <td>NaN</td>\n",
       "      <td>NaN</td>\n",
       "      <td>NaN</td>\n",
       "    </tr>\n",
       "    <tr>\n",
       "      <th>3</th>\n",
       "      <td>10001</td>\n",
       "      <td>2022-11-01 11:01:46.498 -0400</td>\n",
       "      <td>287.248</td>\n",
       "      <td>NaN</td>\n",
       "      <td>NaN</td>\n",
       "      <td>8.57397</td>\n",
       "      <td>773.959</td>\n",
       "      <td>7.41193</td>\n",
       "      <td>287.248</td>\n",
       "      <td>NaN</td>\n",
       "      <td>...</td>\n",
       "      <td>NaN</td>\n",
       "      <td>0.0</td>\n",
       "      <td>0.0</td>\n",
       "      <td>74.2574</td>\n",
       "      <td>500.0</td>\n",
       "      <td>NaN</td>\n",
       "      <td>NaN</td>\n",
       "      <td>NaN</td>\n",
       "      <td>NaN</td>\n",
       "      <td>NaN</td>\n",
       "    </tr>\n",
       "    <tr>\n",
       "      <th>4</th>\n",
       "      <td>10001</td>\n",
       "      <td>2022-11-01 11:01:56.554 -0400</td>\n",
       "      <td>287.175</td>\n",
       "      <td>NaN</td>\n",
       "      <td>NaN</td>\n",
       "      <td>8.88745</td>\n",
       "      <td>773.597</td>\n",
       "      <td>7.41699</td>\n",
       "      <td>287.157</td>\n",
       "      <td>NaN</td>\n",
       "      <td>...</td>\n",
       "      <td>NaN</td>\n",
       "      <td>0.0</td>\n",
       "      <td>0.0</td>\n",
       "      <td>74.2574</td>\n",
       "      <td>500.0</td>\n",
       "      <td>NaN</td>\n",
       "      <td>NaN</td>\n",
       "      <td>NaN</td>\n",
       "      <td>NaN</td>\n",
       "      <td>NaN</td>\n",
       "    </tr>\n",
       "  </tbody>\n",
       "</table>\n",
       "<p>5 rows × 27 columns</p>\n",
       "</div>"
      ],
      "text/plain": [
       "   pool_id                     time_stamp  salinity  flow switch  flow meter  \\\n",
       "0    10001  2022-11-01 11:01:16.220 -0400   287.175          NaN         NaN   \n",
       "1    10001  2022-11-01 11:01:26.323 -0400   287.175          NaN         NaN   \n",
       "2    10001  2022-11-01 11:01:36.386 -0400   287.121          NaN         NaN   \n",
       "3    10001  2022-11-01 11:01:46.498 -0400   287.248          NaN         NaN   \n",
       "4    10001  2022-11-01 11:01:56.554 -0400   287.175          NaN         NaN   \n",
       "\n",
       "   turbidity      ORP       PH      TDS  Pressure in tank  ...  Shw msg  \\\n",
       "0    9.51440  774.049  7.41573  287.175               NaN  ...      NaN   \n",
       "1    9.35767  773.597  7.41573  287.175               NaN  ...      NaN   \n",
       "2    9.35767  773.869  7.41889  287.121               NaN  ...      NaN   \n",
       "3    8.57397  773.959  7.41193  287.248               NaN  ...      NaN   \n",
       "4    8.88745  773.597  7.41699  287.157               NaN  ...      NaN   \n",
       "\n",
       "   Drain  Human Counter  temperature  water level  cppm  phfeedtime  \\\n",
       "0    0.0            0.0      74.2574        500.0   NaN         NaN   \n",
       "1    0.0            0.0      74.2574        500.0   NaN         NaN   \n",
       "2    0.0            0.0      74.2574        500.0   NaN         NaN   \n",
       "3    0.0            0.0      74.2574        500.0   NaN         NaN   \n",
       "4    0.0            0.0      74.2574        500.0   NaN         NaN   \n",
       "\n",
       "   orpfeedtime  bather in from mens  bather in from ladies  \n",
       "0          NaN                  NaN                    NaN  \n",
       "1          NaN                  NaN                    NaN  \n",
       "2          NaN                  NaN                    NaN  \n",
       "3          NaN                  NaN                    NaN  \n",
       "4          NaN                  NaN                    NaN  \n",
       "\n",
       "[5 rows x 27 columns]"
      ]
     },
     "execution_count": 4,
     "metadata": {},
     "output_type": "execute_result"
    }
   ],
   "source": [
    "df.head()"
   ]
  },
  {
   "cell_type": "code",
   "execution_count": 5,
   "id": "c3cf59c7",
   "metadata": {},
   "outputs": [
    {
     "data": {
      "text/plain": [
       "Index(['pool_id', 'time_stamp', 'salinity', 'flow switch', 'flow meter',\n",
       "       'turbidity', 'ORP', 'PH', 'TDS', 'Pressure in tank', 'Pressure in',\n",
       "       'Pressure out', 'Pump RPM', 'pump current', 'dis_feeder', 'ph_feeder',\n",
       "       'Fresh water', 'Shw msg', 'Drain', 'Human Counter', 'temperature',\n",
       "       'water level', 'cppm', 'phfeedtime', 'orpfeedtime',\n",
       "       'bather in from mens', 'bather in from ladies'],\n",
       "      dtype='object')"
      ]
     },
     "execution_count": 5,
     "metadata": {},
     "output_type": "execute_result"
    }
   ],
   "source": [
    "df.columns"
   ]
  },
  {
   "cell_type": "markdown",
   "id": "defa2fd6",
   "metadata": {},
   "source": [
    "We want to remove some the columns we know aren't necessary.\n",
    "\n",
    "The following columns are deprecated from the client:\n",
    "- `flow switch`\n",
    "- `flow meter`\n",
    "- `Pressure in tank`\n",
    "- `Shw msg`\n",
    "- `phfeedtime`\n",
    "- `orpfeedtime`"
   ]
  },
  {
   "cell_type": "code",
   "execution_count": 6,
   "id": "04ee403c",
   "metadata": {},
   "outputs": [
    {
     "data": {
      "text/html": [
       "<div>\n",
       "<style scoped>\n",
       "    .dataframe tbody tr th:only-of-type {\n",
       "        vertical-align: middle;\n",
       "    }\n",
       "\n",
       "    .dataframe tbody tr th {\n",
       "        vertical-align: top;\n",
       "    }\n",
       "\n",
       "    .dataframe thead th {\n",
       "        text-align: right;\n",
       "    }\n",
       "</style>\n",
       "<table border=\"1\" class=\"dataframe\">\n",
       "  <thead>\n",
       "    <tr style=\"text-align: right;\">\n",
       "      <th></th>\n",
       "      <th>pool_id</th>\n",
       "      <th>time_stamp</th>\n",
       "      <th>salinity</th>\n",
       "      <th>turbidity</th>\n",
       "      <th>ORP</th>\n",
       "      <th>PH</th>\n",
       "      <th>TDS</th>\n",
       "      <th>Pressure in</th>\n",
       "      <th>Pressure out</th>\n",
       "      <th>Pump RPM</th>\n",
       "      <th>...</th>\n",
       "      <th>dis_feeder</th>\n",
       "      <th>ph_feeder</th>\n",
       "      <th>Fresh water</th>\n",
       "      <th>Drain</th>\n",
       "      <th>Human Counter</th>\n",
       "      <th>temperature</th>\n",
       "      <th>water level</th>\n",
       "      <th>cppm</th>\n",
       "      <th>bather in from mens</th>\n",
       "      <th>bather in from ladies</th>\n",
       "    </tr>\n",
       "  </thead>\n",
       "  <tbody>\n",
       "    <tr>\n",
       "      <th>0</th>\n",
       "      <td>10001</td>\n",
       "      <td>2022-11-01 11:01:16.220 -0400</td>\n",
       "      <td>287.175</td>\n",
       "      <td>9.51440</td>\n",
       "      <td>774.049</td>\n",
       "      <td>7.41573</td>\n",
       "      <td>287.175</td>\n",
       "      <td>2.53581</td>\n",
       "      <td>2.53346</td>\n",
       "      <td>NaN</td>\n",
       "      <td>...</td>\n",
       "      <td>NaN</td>\n",
       "      <td>NaN</td>\n",
       "      <td>0.0</td>\n",
       "      <td>0.0</td>\n",
       "      <td>0.0</td>\n",
       "      <td>74.2574</td>\n",
       "      <td>500.0</td>\n",
       "      <td>NaN</td>\n",
       "      <td>NaN</td>\n",
       "      <td>NaN</td>\n",
       "    </tr>\n",
       "    <tr>\n",
       "      <th>1</th>\n",
       "      <td>10001</td>\n",
       "      <td>2022-11-01 11:01:26.323 -0400</td>\n",
       "      <td>287.175</td>\n",
       "      <td>9.35767</td>\n",
       "      <td>773.597</td>\n",
       "      <td>7.41573</td>\n",
       "      <td>287.175</td>\n",
       "      <td>2.53508</td>\n",
       "      <td>2.53382</td>\n",
       "      <td>NaN</td>\n",
       "      <td>...</td>\n",
       "      <td>NaN</td>\n",
       "      <td>NaN</td>\n",
       "      <td>0.0</td>\n",
       "      <td>0.0</td>\n",
       "      <td>0.0</td>\n",
       "      <td>74.2574</td>\n",
       "      <td>500.0</td>\n",
       "      <td>NaN</td>\n",
       "      <td>NaN</td>\n",
       "      <td>NaN</td>\n",
       "    </tr>\n",
       "    <tr>\n",
       "      <th>2</th>\n",
       "      <td>10001</td>\n",
       "      <td>2022-11-01 11:01:36.386 -0400</td>\n",
       "      <td>287.121</td>\n",
       "      <td>9.35767</td>\n",
       "      <td>773.869</td>\n",
       "      <td>7.41889</td>\n",
       "      <td>287.121</td>\n",
       "      <td>2.53526</td>\n",
       "      <td>2.53382</td>\n",
       "      <td>NaN</td>\n",
       "      <td>...</td>\n",
       "      <td>NaN</td>\n",
       "      <td>NaN</td>\n",
       "      <td>0.0</td>\n",
       "      <td>0.0</td>\n",
       "      <td>0.0</td>\n",
       "      <td>74.2574</td>\n",
       "      <td>500.0</td>\n",
       "      <td>NaN</td>\n",
       "      <td>NaN</td>\n",
       "      <td>NaN</td>\n",
       "    </tr>\n",
       "    <tr>\n",
       "      <th>3</th>\n",
       "      <td>10001</td>\n",
       "      <td>2022-11-01 11:01:46.498 -0400</td>\n",
       "      <td>287.248</td>\n",
       "      <td>8.57397</td>\n",
       "      <td>773.959</td>\n",
       "      <td>7.41193</td>\n",
       "      <td>287.248</td>\n",
       "      <td>2.53545</td>\n",
       "      <td>2.53382</td>\n",
       "      <td>NaN</td>\n",
       "      <td>...</td>\n",
       "      <td>NaN</td>\n",
       "      <td>NaN</td>\n",
       "      <td>0.0</td>\n",
       "      <td>0.0</td>\n",
       "      <td>0.0</td>\n",
       "      <td>74.2574</td>\n",
       "      <td>500.0</td>\n",
       "      <td>NaN</td>\n",
       "      <td>NaN</td>\n",
       "      <td>NaN</td>\n",
       "    </tr>\n",
       "    <tr>\n",
       "      <th>4</th>\n",
       "      <td>10001</td>\n",
       "      <td>2022-11-01 11:01:56.554 -0400</td>\n",
       "      <td>287.175</td>\n",
       "      <td>8.88745</td>\n",
       "      <td>773.597</td>\n",
       "      <td>7.41699</td>\n",
       "      <td>287.157</td>\n",
       "      <td>2.53508</td>\n",
       "      <td>2.53382</td>\n",
       "      <td>NaN</td>\n",
       "      <td>...</td>\n",
       "      <td>NaN</td>\n",
       "      <td>NaN</td>\n",
       "      <td>0.0</td>\n",
       "      <td>0.0</td>\n",
       "      <td>0.0</td>\n",
       "      <td>74.2574</td>\n",
       "      <td>500.0</td>\n",
       "      <td>NaN</td>\n",
       "      <td>NaN</td>\n",
       "      <td>NaN</td>\n",
       "    </tr>\n",
       "  </tbody>\n",
       "</table>\n",
       "<p>5 rows × 21 columns</p>\n",
       "</div>"
      ],
      "text/plain": [
       "   pool_id                     time_stamp  salinity  turbidity      ORP  \\\n",
       "0    10001  2022-11-01 11:01:16.220 -0400   287.175    9.51440  774.049   \n",
       "1    10001  2022-11-01 11:01:26.323 -0400   287.175    9.35767  773.597   \n",
       "2    10001  2022-11-01 11:01:36.386 -0400   287.121    9.35767  773.869   \n",
       "3    10001  2022-11-01 11:01:46.498 -0400   287.248    8.57397  773.959   \n",
       "4    10001  2022-11-01 11:01:56.554 -0400   287.175    8.88745  773.597   \n",
       "\n",
       "        PH      TDS  Pressure in  Pressure out  Pump RPM  ...  dis_feeder  \\\n",
       "0  7.41573  287.175      2.53581       2.53346       NaN  ...         NaN   \n",
       "1  7.41573  287.175      2.53508       2.53382       NaN  ...         NaN   \n",
       "2  7.41889  287.121      2.53526       2.53382       NaN  ...         NaN   \n",
       "3  7.41193  287.248      2.53545       2.53382       NaN  ...         NaN   \n",
       "4  7.41699  287.157      2.53508       2.53382       NaN  ...         NaN   \n",
       "\n",
       "   ph_feeder  Fresh water  Drain  Human Counter  temperature  water level  \\\n",
       "0        NaN          0.0    0.0            0.0      74.2574        500.0   \n",
       "1        NaN          0.0    0.0            0.0      74.2574        500.0   \n",
       "2        NaN          0.0    0.0            0.0      74.2574        500.0   \n",
       "3        NaN          0.0    0.0            0.0      74.2574        500.0   \n",
       "4        NaN          0.0    0.0            0.0      74.2574        500.0   \n",
       "\n",
       "   cppm  bather in from mens  bather in from ladies  \n",
       "0   NaN                  NaN                    NaN  \n",
       "1   NaN                  NaN                    NaN  \n",
       "2   NaN                  NaN                    NaN  \n",
       "3   NaN                  NaN                    NaN  \n",
       "4   NaN                  NaN                    NaN  \n",
       "\n",
       "[5 rows x 21 columns]"
      ]
     },
     "execution_count": 6,
     "metadata": {},
     "output_type": "execute_result"
    }
   ],
   "source": [
    "deprecated_col = ['flow switch', 'flow meter', 'Pressure in tank', 'Shw msg', 'phfeedtime', 'orpfeedtime']\n",
    "\n",
    "df = df.drop(deprecated_col, axis=1)\n",
    "df.head()"
   ]
  },
  {
   "cell_type": "markdown",
   "id": "3e92468c",
   "metadata": {},
   "source": [
    "Lets tidy up our data. `cppm` is calculated from ORP and thus is not necessary. We also do not have data for `bather in from mens` and `bather in from ladies`. We will remove these as well then look at missing values."
   ]
  },
  {
   "cell_type": "code",
   "execution_count": 7,
   "id": "1a67a4c6",
   "metadata": {},
   "outputs": [
    {
     "data": {
      "text/plain": [
       "Index(['pool_id', 'time_stamp', 'salinity', 'turbidity', 'ORP', 'PH', 'TDS',\n",
       "       'Pressure in', 'Pressure out', 'Pump RPM', 'pump current', 'dis_feeder',\n",
       "       'ph_feeder', 'Fresh water', 'Drain', 'Human Counter', 'temperature',\n",
       "       'water level'],\n",
       "      dtype='object')"
      ]
     },
     "execution_count": 7,
     "metadata": {},
     "output_type": "execute_result"
    }
   ],
   "source": [
    "unnecessary_data = ['cppm', 'bather in from mens', 'bather in from ladies']\n",
    "\n",
    "df = df.drop(unnecessary_data, axis=1)\n",
    "df.columns"
   ]
  },
  {
   "cell_type": "code",
   "execution_count": 8,
   "id": "668b5eda",
   "metadata": {},
   "outputs": [
    {
     "data": {
      "text/plain": [
       "pool_id              0\n",
       "time_stamp           0\n",
       "salinity            31\n",
       "turbidity           31\n",
       "ORP                  0\n",
       "PH                   0\n",
       "TDS                 31\n",
       "Pressure in         31\n",
       "Pressure out        31\n",
       "Pump RPM         43635\n",
       "pump current        31\n",
       "dis_feeder       43635\n",
       "ph_feeder        43635\n",
       "Fresh water         31\n",
       "Drain               31\n",
       "Human Counter       31\n",
       "temperature          0\n",
       "water level         31\n",
       "dtype: int64"
      ]
     },
     "execution_count": 8,
     "metadata": {},
     "output_type": "execute_result"
    }
   ],
   "source": [
    "df.isna().sum()"
   ]
  },
  {
   "cell_type": "code",
   "execution_count": 9,
   "id": "bc8298d2",
   "metadata": {},
   "outputs": [
    {
     "data": {
      "text/plain": [
       "43635"
      ]
     },
     "execution_count": 9,
     "metadata": {},
     "output_type": "execute_result"
    }
   ],
   "source": [
    "len(df)"
   ]
  },
  {
   "cell_type": "markdown",
   "id": "c1659f62",
   "metadata": {},
   "source": [
    "Comparing our missing data and the len of the dataframe, we see that the columns `Pump RPM`, `dis_feeder`, and `ph_feeder` are completely empty. We will drop those columns."
   ]
  },
  {
   "cell_type": "code",
   "execution_count": 10,
   "id": "38b3fe87",
   "metadata": {},
   "outputs": [
    {
     "data": {
      "text/plain": [
       "Index(['pool_id', 'time_stamp', 'salinity', 'turbidity', 'ORP', 'PH', 'TDS',\n",
       "       'Pressure in', 'Pressure out', 'pump current', 'Fresh water', 'Drain',\n",
       "       'Human Counter', 'temperature', 'water level'],\n",
       "      dtype='object')"
      ]
     },
     "execution_count": 10,
     "metadata": {},
     "output_type": "execute_result"
    }
   ],
   "source": [
    "empty_col = ['Pump RPM', 'dis_feeder', 'ph_feeder']\n",
    "\n",
    "df = df.drop(empty_col, axis=1)\n",
    "df.columns"
   ]
  },
  {
   "cell_type": "code",
   "execution_count": 11,
   "id": "c35467dc",
   "metadata": {},
   "outputs": [
    {
     "data": {
      "text/html": [
       "<div>\n",
       "<style scoped>\n",
       "    .dataframe tbody tr th:only-of-type {\n",
       "        vertical-align: middle;\n",
       "    }\n",
       "\n",
       "    .dataframe tbody tr th {\n",
       "        vertical-align: top;\n",
       "    }\n",
       "\n",
       "    .dataframe thead th {\n",
       "        text-align: right;\n",
       "    }\n",
       "</style>\n",
       "<table border=\"1\" class=\"dataframe\">\n",
       "  <thead>\n",
       "    <tr style=\"text-align: right;\">\n",
       "      <th></th>\n",
       "      <th>pool_id</th>\n",
       "      <th>time_stamp</th>\n",
       "      <th>salinity</th>\n",
       "      <th>turbidity</th>\n",
       "      <th>ORP</th>\n",
       "      <th>PH</th>\n",
       "      <th>TDS</th>\n",
       "      <th>Pressure in</th>\n",
       "      <th>Pressure out</th>\n",
       "      <th>pump current</th>\n",
       "      <th>Fresh water</th>\n",
       "      <th>Drain</th>\n",
       "      <th>Human Counter</th>\n",
       "      <th>temperature</th>\n",
       "      <th>water level</th>\n",
       "    </tr>\n",
       "  </thead>\n",
       "  <tbody>\n",
       "    <tr>\n",
       "      <th>0</th>\n",
       "      <td>10001</td>\n",
       "      <td>2022-11-01 11:01:16.220 -0400</td>\n",
       "      <td>287.175</td>\n",
       "      <td>9.51440</td>\n",
       "      <td>774.049</td>\n",
       "      <td>7.41573</td>\n",
       "      <td>287.175</td>\n",
       "      <td>2.53581</td>\n",
       "      <td>2.53346</td>\n",
       "      <td>0.0</td>\n",
       "      <td>0.0</td>\n",
       "      <td>0.0</td>\n",
       "      <td>0.0</td>\n",
       "      <td>74.2574</td>\n",
       "      <td>500.0</td>\n",
       "    </tr>\n",
       "    <tr>\n",
       "      <th>1</th>\n",
       "      <td>10001</td>\n",
       "      <td>2022-11-01 11:01:26.323 -0400</td>\n",
       "      <td>287.175</td>\n",
       "      <td>9.35767</td>\n",
       "      <td>773.597</td>\n",
       "      <td>7.41573</td>\n",
       "      <td>287.175</td>\n",
       "      <td>2.53508</td>\n",
       "      <td>2.53382</td>\n",
       "      <td>0.0</td>\n",
       "      <td>0.0</td>\n",
       "      <td>0.0</td>\n",
       "      <td>0.0</td>\n",
       "      <td>74.2574</td>\n",
       "      <td>500.0</td>\n",
       "    </tr>\n",
       "    <tr>\n",
       "      <th>2</th>\n",
       "      <td>10001</td>\n",
       "      <td>2022-11-01 11:01:36.386 -0400</td>\n",
       "      <td>287.121</td>\n",
       "      <td>9.35767</td>\n",
       "      <td>773.869</td>\n",
       "      <td>7.41889</td>\n",
       "      <td>287.121</td>\n",
       "      <td>2.53526</td>\n",
       "      <td>2.53382</td>\n",
       "      <td>0.0</td>\n",
       "      <td>0.0</td>\n",
       "      <td>0.0</td>\n",
       "      <td>0.0</td>\n",
       "      <td>74.2574</td>\n",
       "      <td>500.0</td>\n",
       "    </tr>\n",
       "    <tr>\n",
       "      <th>3</th>\n",
       "      <td>10001</td>\n",
       "      <td>2022-11-01 11:01:46.498 -0400</td>\n",
       "      <td>287.248</td>\n",
       "      <td>8.57397</td>\n",
       "      <td>773.959</td>\n",
       "      <td>7.41193</td>\n",
       "      <td>287.248</td>\n",
       "      <td>2.53545</td>\n",
       "      <td>2.53382</td>\n",
       "      <td>0.0</td>\n",
       "      <td>0.0</td>\n",
       "      <td>0.0</td>\n",
       "      <td>0.0</td>\n",
       "      <td>74.2574</td>\n",
       "      <td>500.0</td>\n",
       "    </tr>\n",
       "    <tr>\n",
       "      <th>4</th>\n",
       "      <td>10001</td>\n",
       "      <td>2022-11-01 11:01:56.554 -0400</td>\n",
       "      <td>287.175</td>\n",
       "      <td>8.88745</td>\n",
       "      <td>773.597</td>\n",
       "      <td>7.41699</td>\n",
       "      <td>287.157</td>\n",
       "      <td>2.53508</td>\n",
       "      <td>2.53382</td>\n",
       "      <td>0.0</td>\n",
       "      <td>0.0</td>\n",
       "      <td>0.0</td>\n",
       "      <td>0.0</td>\n",
       "      <td>74.2574</td>\n",
       "      <td>500.0</td>\n",
       "    </tr>\n",
       "  </tbody>\n",
       "</table>\n",
       "</div>"
      ],
      "text/plain": [
       "   pool_id                     time_stamp  salinity  turbidity      ORP  \\\n",
       "0    10001  2022-11-01 11:01:16.220 -0400   287.175    9.51440  774.049   \n",
       "1    10001  2022-11-01 11:01:26.323 -0400   287.175    9.35767  773.597   \n",
       "2    10001  2022-11-01 11:01:36.386 -0400   287.121    9.35767  773.869   \n",
       "3    10001  2022-11-01 11:01:46.498 -0400   287.248    8.57397  773.959   \n",
       "4    10001  2022-11-01 11:01:56.554 -0400   287.175    8.88745  773.597   \n",
       "\n",
       "        PH      TDS  Pressure in  Pressure out  pump current  Fresh water  \\\n",
       "0  7.41573  287.175      2.53581       2.53346           0.0          0.0   \n",
       "1  7.41573  287.175      2.53508       2.53382           0.0          0.0   \n",
       "2  7.41889  287.121      2.53526       2.53382           0.0          0.0   \n",
       "3  7.41193  287.248      2.53545       2.53382           0.0          0.0   \n",
       "4  7.41699  287.157      2.53508       2.53382           0.0          0.0   \n",
       "\n",
       "   Drain  Human Counter  temperature  water level  \n",
       "0    0.0            0.0      74.2574        500.0  \n",
       "1    0.0            0.0      74.2574        500.0  \n",
       "2    0.0            0.0      74.2574        500.0  \n",
       "3    0.0            0.0      74.2574        500.0  \n",
       "4    0.0            0.0      74.2574        500.0  "
      ]
     },
     "execution_count": 11,
     "metadata": {},
     "output_type": "execute_result"
    }
   ],
   "source": [
    "df.head()"
   ]
  },
  {
   "cell_type": "code",
   "execution_count": 12,
   "id": "df39dce8",
   "metadata": {},
   "outputs": [],
   "source": [
    "df['time_stamp'] = pd.to_datetime(df['time_stamp'], utc=True) #Convert to timestamp dtype through UTC\n",
    "df['time_stamp'] = df['time_stamp'].dt.tz_convert('Canada/Eastern') #Convert back to Canadian Eastern time\n",
    "df['time_stamp'] = df['time_stamp'].dt.tz_localize(None) #Remove localization information"
   ]
  },
  {
   "cell_type": "code",
   "execution_count": 13,
   "id": "bc6db855",
   "metadata": {},
   "outputs": [
    {
     "data": {
      "text/plain": [
       "0       2022-11-01 11:01:16.220\n",
       "1       2022-11-01 11:01:26.323\n",
       "2       2022-11-01 11:01:36.386\n",
       "3       2022-11-01 11:01:46.498\n",
       "4       2022-11-01 11:01:56.554\n",
       "                  ...          \n",
       "43630   2022-11-01 11:00:26.794\n",
       "43631   2022-11-01 11:00:36.852\n",
       "43632   2022-11-01 11:00:46.971\n",
       "43633   2022-11-01 11:00:56.031\n",
       "43634   2022-11-01 11:01:06.155\n",
       "Name: time_stamp, Length: 43635, dtype: datetime64[ns]"
      ]
     },
     "execution_count": 13,
     "metadata": {},
     "output_type": "execute_result"
    }
   ],
   "source": [
    "df['time_stamp'] "
   ]
  },
  {
   "cell_type": "code",
   "execution_count": 14,
   "id": "7114aef8",
   "metadata": {},
   "outputs": [
    {
     "data": {
      "text/html": [
       "<div>\n",
       "<style scoped>\n",
       "    .dataframe tbody tr th:only-of-type {\n",
       "        vertical-align: middle;\n",
       "    }\n",
       "\n",
       "    .dataframe tbody tr th {\n",
       "        vertical-align: top;\n",
       "    }\n",
       "\n",
       "    .dataframe thead th {\n",
       "        text-align: right;\n",
       "    }\n",
       "</style>\n",
       "<table border=\"1\" class=\"dataframe\">\n",
       "  <thead>\n",
       "    <tr style=\"text-align: right;\">\n",
       "      <th></th>\n",
       "      <th>pool_id</th>\n",
       "      <th>time_stamp</th>\n",
       "      <th>salinity</th>\n",
       "      <th>turbidity</th>\n",
       "      <th>ORP</th>\n",
       "      <th>PH</th>\n",
       "      <th>TDS</th>\n",
       "      <th>Pressure in</th>\n",
       "      <th>Pressure out</th>\n",
       "      <th>pump current</th>\n",
       "      <th>Fresh water</th>\n",
       "      <th>Drain</th>\n",
       "      <th>Human Counter</th>\n",
       "      <th>temperature</th>\n",
       "      <th>water level</th>\n",
       "    </tr>\n",
       "  </thead>\n",
       "  <tbody>\n",
       "    <tr>\n",
       "      <th>39668</th>\n",
       "      <td>10001</td>\n",
       "      <td>2022-11-01 00:00:06.605</td>\n",
       "      <td>285.584</td>\n",
       "      <td>6.53613</td>\n",
       "      <td>788.607</td>\n",
       "      <td>7.46826</td>\n",
       "      <td>285.584</td>\n",
       "      <td>2.53725</td>\n",
       "      <td>2.53545</td>\n",
       "      <td>0.0</td>\n",
       "      <td>0.0</td>\n",
       "      <td>0.0</td>\n",
       "      <td>0.0</td>\n",
       "      <td>74.2574</td>\n",
       "      <td>500.0</td>\n",
       "    </tr>\n",
       "    <tr>\n",
       "      <th>39669</th>\n",
       "      <td>10001</td>\n",
       "      <td>2022-11-01 00:00:16.661</td>\n",
       "      <td>285.638</td>\n",
       "      <td>6.37939</td>\n",
       "      <td>788.879</td>\n",
       "      <td>7.46067</td>\n",
       "      <td>285.638</td>\n",
       "      <td>2.53780</td>\n",
       "      <td>2.53617</td>\n",
       "      <td>0.0</td>\n",
       "      <td>0.0</td>\n",
       "      <td>0.0</td>\n",
       "      <td>0.0</td>\n",
       "      <td>74.2574</td>\n",
       "      <td>500.0</td>\n",
       "    </tr>\n",
       "    <tr>\n",
       "      <th>39670</th>\n",
       "      <td>10001</td>\n",
       "      <td>2022-11-01 00:00:26.768</td>\n",
       "      <td>285.855</td>\n",
       "      <td>5.75244</td>\n",
       "      <td>788.336</td>\n",
       "      <td>7.42585</td>\n",
       "      <td>285.873</td>\n",
       "      <td>2.53870</td>\n",
       "      <td>2.53743</td>\n",
       "      <td>0.0</td>\n",
       "      <td>0.0</td>\n",
       "      <td>0.0</td>\n",
       "      <td>0.0</td>\n",
       "      <td>74.2574</td>\n",
       "      <td>500.0</td>\n",
       "    </tr>\n",
       "    <tr>\n",
       "      <th>39671</th>\n",
       "      <td>10001</td>\n",
       "      <td>2022-11-01 00:00:36.834</td>\n",
       "      <td>285.855</td>\n",
       "      <td>5.59570</td>\n",
       "      <td>788.065</td>\n",
       "      <td>7.43408</td>\n",
       "      <td>285.855</td>\n",
       "      <td>2.53852</td>\n",
       "      <td>2.53743</td>\n",
       "      <td>0.0</td>\n",
       "      <td>0.0</td>\n",
       "      <td>0.0</td>\n",
       "      <td>0.0</td>\n",
       "      <td>74.2574</td>\n",
       "      <td>500.0</td>\n",
       "    </tr>\n",
       "    <tr>\n",
       "      <th>39672</th>\n",
       "      <td>10001</td>\n",
       "      <td>2022-11-01 00:00:46.936</td>\n",
       "      <td>285.765</td>\n",
       "      <td>5.59570</td>\n",
       "      <td>788.879</td>\n",
       "      <td>7.43345</td>\n",
       "      <td>285.765</td>\n",
       "      <td>2.53870</td>\n",
       "      <td>2.53725</td>\n",
       "      <td>0.0</td>\n",
       "      <td>0.0</td>\n",
       "      <td>0.0</td>\n",
       "      <td>0.0</td>\n",
       "      <td>74.2574</td>\n",
       "      <td>500.0</td>\n",
       "    </tr>\n",
       "  </tbody>\n",
       "</table>\n",
       "</div>"
      ],
      "text/plain": [
       "       pool_id              time_stamp  salinity  turbidity      ORP       PH  \\\n",
       "39668    10001 2022-11-01 00:00:06.605   285.584    6.53613  788.607  7.46826   \n",
       "39669    10001 2022-11-01 00:00:16.661   285.638    6.37939  788.879  7.46067   \n",
       "39670    10001 2022-11-01 00:00:26.768   285.855    5.75244  788.336  7.42585   \n",
       "39671    10001 2022-11-01 00:00:36.834   285.855    5.59570  788.065  7.43408   \n",
       "39672    10001 2022-11-01 00:00:46.936   285.765    5.59570  788.879  7.43345   \n",
       "\n",
       "           TDS  Pressure in  Pressure out  pump current  Fresh water  Drain  \\\n",
       "39668  285.584      2.53725       2.53545           0.0          0.0    0.0   \n",
       "39669  285.638      2.53780       2.53617           0.0          0.0    0.0   \n",
       "39670  285.873      2.53870       2.53743           0.0          0.0    0.0   \n",
       "39671  285.855      2.53852       2.53743           0.0          0.0    0.0   \n",
       "39672  285.765      2.53870       2.53725           0.0          0.0    0.0   \n",
       "\n",
       "       Human Counter  temperature  water level  \n",
       "39668            0.0      74.2574        500.0  \n",
       "39669            0.0      74.2574        500.0  \n",
       "39670            0.0      74.2574        500.0  \n",
       "39671            0.0      74.2574        500.0  \n",
       "39672            0.0      74.2574        500.0  "
      ]
     },
     "execution_count": 14,
     "metadata": {},
     "output_type": "execute_result"
    }
   ],
   "source": [
    "df = df.sort_values(by='time_stamp')\n",
    "df.head()"
   ]
  },
  {
   "cell_type": "markdown",
   "id": "5fba6725",
   "metadata": {},
   "source": [
    "Today, we're going to focus on creating an alert each time our pH is out of scope. Oour ideal range is 7.2-7.8 pH with a target of 7.6. Lets start by plotting out our pH and seeing where it stands."
   ]
  },
  {
   "cell_type": "code",
   "execution_count": 15,
   "id": "988d555e",
   "metadata": {},
   "outputs": [
    {
     "data": {
      "text/plain": [
       "<matplotlib.lines.Line2D at 0x171c419d160>"
      ]
     },
     "execution_count": 15,
     "metadata": {},
     "output_type": "execute_result"
    },
    {
     "data": {
      "image/png": "[encoded data removed]",
      "text/plain": [
       "<Figure size 864x432 with 1 Axes>"
      ]
     },
     "metadata": {
      "needs_background": "light"
     },
     "output_type": "display_data"
    }
   ],
   "source": [
    "fig, ax = plt.subplots(figsize=(12,6))\n",
    "\n",
    "ax.plot(df['time_stamp'], df['PH'])\n",
    "ax.set_xlabel('Time')\n",
    "ax.set_ylabel('pH')\n",
    "ax.set_title('Pool pH Over Time')\n",
    "ax.axhline(y=7.2, linestyle='--',color='red')\n",
    "ax.axhline(y=7.8, linestyle='--',color='red')\n",
    "ax.axhline(y=7.6, linestyle='--',color='green')"
   ]
  },
  {
   "cell_type": "code",
   "execution_count": 16,
   "id": "f4ac0a50",
   "metadata": {},
   "outputs": [
    {
     "name": "stdout",
     "output_type": "stream",
     "text": [
      "2022-11-07 21:57:24 2022-11-07 21:59:24\n"
     ]
    }
   ],
   "source": [
    "time = pd.to_datetime('2022-11-07 21:59:24')\n",
    "previous_time = str(time-pd.Timedelta(\"2 minutes\"))\n",
    "str_time = str(time)\n",
    "\n",
    "print(previous_time, str_time)"
   ]
  },
  {
   "cell_type": "code",
   "execution_count": 17,
   "id": "d0552d45",
   "metadata": {},
   "outputs": [],
   "source": [
    "df = df.reset_index()"
   ]
  },
  {
   "cell_type": "code",
   "execution_count": 18,
   "id": "76b94fd3",
   "metadata": {},
   "outputs": [],
   "source": [
    "time = '2022-11-07 21:59:24'\n",
    "time = pd.to_datetime(time)\n",
    "previous_time = time-pd.Timedelta(hours=2)\n",
    "str_time = str(time)\n",
    "str_previous_time = str(previous_time)"
   ]
  },
  {
   "cell_type": "code",
   "execution_count": 19,
   "id": "8fa9fa99",
   "metadata": {},
   "outputs": [
    {
     "name": "stdout",
     "output_type": "stream",
     "text": [
      "[43630]\n"
     ]
    }
   ],
   "source": [
    "index = df.index[df['time_stamp'] == '2022-11-07 21:59:24.885'].tolist()\n",
    "print(index)"
   ]
  },
  {
   "cell_type": "code",
   "execution_count": 20,
   "id": "b5add06b",
   "metadata": {},
   "outputs": [
    {
     "name": "stdout",
     "output_type": "stream",
     "text": [
      "       index  pool_id              time_stamp  salinity  turbidity      ORP  \\\n",
      "43625  39658    10001 2022-11-07 18:58:34.849   288.134    32.9949  722.599   \n",
      "43626  39659    10001 2022-11-07 19:58:44.834   287.392    32.6814  721.424   \n",
      "43627  39660    10001 2022-11-07 19:58:54.891   287.465    32.8381  721.333   \n",
      "43628  39661    10001 2022-11-07 20:59:04.835   286.723    32.0544  718.530   \n",
      "43629  39662    10001 2022-11-07 20:59:14.896   286.741    31.7410  718.620   \n",
      "43630  39663    10001 2022-11-07 21:59:24.885   286.054    31.2708  719.615   \n",
      "\n",
      "            PH      TDS  Pressure in  Pressure out  pump current  Fresh water  \\\n",
      "43625  7.58726  288.134      2.51555       2.51447           0.0          0.0   \n",
      "43626  7.58599  287.392      2.51591       2.51483           0.0          0.0   \n",
      "43627  7.58662  287.465      2.51591       2.51411           0.0          0.0   \n",
      "43628  7.59359  286.723      2.51628       2.51393           0.0          0.0   \n",
      "43629  7.58346  286.741      2.51573       2.51483           0.0          0.0   \n",
      "43630  7.60182  286.054      2.51591       2.51447           0.0          0.0   \n",
      "\n",
      "       Drain  Human Counter  temperature  water level  \n",
      "43625    0.0            0.0      74.2574        500.0  \n",
      "43626    0.0            0.0      74.2574        500.0  \n",
      "43627    0.0            0.0      74.2574        500.0  \n",
      "43628    0.0            0.0      74.2574        500.0  \n",
      "43629    0.0            0.0      74.2574        500.0  \n",
      "43630    0.0            0.0      74.2574        500.0  \n"
     ]
    },
    {
     "data": {
      "text/plain": [
       "<AxesSubplot:>"
      ]
     },
     "execution_count": 20,
     "metadata": {},
     "output_type": "execute_result"
    },
    {
     "data": {
      "image/png": "[encoded data removed]",
      "text/plain": [
       "<Figure size 432x288 with 1 Axes>"
      ]
     },
     "metadata": {
      "needs_background": "light"
     },
     "output_type": "display_data"
    }
   ],
   "source": [
    "df_time = df.iloc[index[0]-5:index[0]+1] # avoid end of index issues\n",
    "#print(df.loc(str_time))\n",
    "print(df_time)\n",
    "df_time.plot(y='PH', use_index=True)"
   ]
  },
  {
   "cell_type": "code",
   "execution_count": 21,
   "id": "5c1fda7a",
   "metadata": {},
   "outputs": [],
   "source": [
    "time = pd.to_datetime('2022-11-07 21:59:24')\n",
    "previous_time = str(time-pd.Timedelta(\"24 hours\"))\n",
    "str_time = str(time)\n",
    "\n",
    "#print(previous_time, str_time)\n",
    "#df[previous_time:str_time].head()"
   ]
  },
  {
   "cell_type": "code",
   "execution_count": 22,
   "id": "9992ce25",
   "metadata": {},
   "outputs": [
    {
     "data": {
      "text/plain": [
       "0.18081815056720524"
      ]
     },
     "execution_count": 22,
     "metadata": {},
     "output_type": "execute_result"
    }
   ],
   "source": [
    "df_out = df[(df['PH'] < 7.2) | (df['PH'] > 7.8)]\n",
    "len(df_out)/len(df)"
   ]
  },
  {
   "cell_type": "code",
   "execution_count": 57,
   "id": "603275d7",
   "metadata": {},
   "outputs": [
    {
     "name": "stdout",
     "output_type": "stream",
     "text": [
      "{'Very Low': {'range': 'Less than 6 pH', 'count': 6630}, 'Low': {'range': '6pH to 7.2 pH', 'count': 987}, 'In-Range': {'range': '7.2pH to 7.8pH', 'count': 35745}, 'High': {'range': '7.8pH to 9pH', 'count': 238}, 'Very High': {'range': 'Greater than 9 pH', 'count': 35}}\n"
     ]
    }
   ],
   "source": [
    "ph_superlow = df[(df['PH'] <= 6)]\n",
    "ph_low = df[(df['PH'] > 6) & (df['PH'] <= 7.2)]\n",
    "ph_in = df[(df['PH'] > 7.2) & (df['PH'] <= 7.8)]\n",
    "ph_high = df[(df['PH'] > 7.8) & (df['PH'] < 9)]\n",
    "ph_superhigh = df[df['PH'] >= 9]\n",
    "\n",
    "ph_levels = {'Very Low': {'range':'Less than 6 pH', 'count':len(ph_superlow)}, \n",
    "             'Low': {'range':'6pH to 7.2 pH', 'count':len(ph_low)},\n",
    "             'In-Range': {'range':'7.2pH to 7.8pH', 'count':len(ph_in)},\n",
    "             'High':{'range':'7.8pH to 9pH', 'count': len(ph_high)}, \n",
    "             'Very High': {'range':'Greater than 9 pH', 'count': len(ph_superhigh)}}\n",
    "\n",
    "ph_summary = []\n",
    "\n",
    "print(ph_levels)"
   ]
  },
  {
   "cell_type": "code",
   "execution_count": 64,
   "id": "36930215",
   "metadata": {},
   "outputs": [
    {
     "name": "stdout",
     "output_type": "stream",
     "text": [
      "Very Low\n",
      "Low\n",
      "In-Range\n",
      "High\n",
      "Very High\n"
     ]
    }
   ],
   "source": [
    "for key, value in ph_levels.items():\n",
    "     print(key)\n",
    "    ph_summary.append(\n",
    "        {\n",
    "            'ph_level': level,\n",
    "            'range': level['range'],\n",
    "            'time count': level['count'],\n",
    "            'percentage': level['count']/len(df)\n",
    "        }\n",
    "    )"
   ]
  },
  {
   "cell_type": "code",
   "execution_count": 24,
   "id": "20dc73b2",
   "metadata": {},
   "outputs": [
    {
     "data": {
      "text/html": [
       "<div>\n",
       "<style scoped>\n",
       "    .dataframe tbody tr th:only-of-type {\n",
       "        vertical-align: middle;\n",
       "    }\n",
       "\n",
       "    .dataframe tbody tr th {\n",
       "        vertical-align: top;\n",
       "    }\n",
       "\n",
       "    .dataframe thead th {\n",
       "        text-align: right;\n",
       "    }\n",
       "</style>\n",
       "<table border=\"1\" class=\"dataframe\">\n",
       "  <thead>\n",
       "    <tr style=\"text-align: right;\">\n",
       "      <th></th>\n",
       "      <th>ph_level</th>\n",
       "      <th>range</th>\n",
       "      <th>time count</th>\n",
       "      <th>percentage</th>\n",
       "    </tr>\n",
       "  </thead>\n",
       "  <tbody>\n",
       "    <tr>\n",
       "      <th>0</th>\n",
       "      <td>Very Low</td>\n",
       "      <td>Less than 6 pH</td>\n",
       "      <td>8</td>\n",
       "      <td>0.000183</td>\n",
       "    </tr>\n",
       "    <tr>\n",
       "      <th>1</th>\n",
       "      <td>Low</td>\n",
       "      <td>6pH to 7.2 pH</td>\n",
       "      <td>3</td>\n",
       "      <td>0.000069</td>\n",
       "    </tr>\n",
       "    <tr>\n",
       "      <th>2</th>\n",
       "      <td>In-Range</td>\n",
       "      <td>7.2pH to 7.8pH</td>\n",
       "      <td>8</td>\n",
       "      <td>0.000183</td>\n",
       "    </tr>\n",
       "    <tr>\n",
       "      <th>3</th>\n",
       "      <td>High</td>\n",
       "      <td>7.8pH to 9pH</td>\n",
       "      <td>4</td>\n",
       "      <td>0.000092</td>\n",
       "    </tr>\n",
       "    <tr>\n",
       "      <th>4</th>\n",
       "      <td>Very High</td>\n",
       "      <td>Greater than 9 pH</td>\n",
       "      <td>9</td>\n",
       "      <td>0.000206</td>\n",
       "    </tr>\n",
       "  </tbody>\n",
       "</table>\n",
       "</div>"
      ],
      "text/plain": [
       "    ph_level              range  time count  percentage\n",
       "0   Very Low     Less than 6 pH           8    0.000183\n",
       "1        Low      6pH to 7.2 pH           3    0.000069\n",
       "2   In-Range     7.2pH to 7.8pH           8    0.000183\n",
       "3       High       7.8pH to 9pH           4    0.000092\n",
       "4  Very High  Greater than 9 pH           9    0.000206"
      ]
     },
     "execution_count": 24,
     "metadata": {},
     "output_type": "execute_result"
    }
   ],
   "source": [
    "ph_sum_df = pd.DataFrame(ph_summary)\n",
    "ph_sum_df.head()"
   ]
  },
  {
   "cell_type": "code",
   "execution_count": 48,
   "id": "6c43381b",
   "metadata": {},
   "outputs": [],
   "source": [
    "def ph_warning(time, data, pool_id):\n",
    "    df = data\n",
    "    df.sort_values(by='time_stamp')\n",
    "    \n",
    "    try:\n",
    "        df.set_index('time_stamp', inplace=True)\n",
    "    except KeyError:\n",
    "        pass\n",
    "    \n",
    "    pool = df[df['pool_id'] == pool_id]\n",
    "    ph = pool.loc[time]['PH']\n",
    "    #print(ph)\n",
    "    print(f'pH for pool {pool_id} is currently {ph[0]}')\n",
    "    \n",
    "    if ph[0] >= 7.8:\n",
    "        print('pH too basic, take immediate action')\n",
    "    elif ph[0] <= 7.2:\n",
    "        print('pH too acidic, take immediate action')\n",
    "    elif ph[0] < 7.5:\n",
    "        print('pH becoming acidic, consider taking action')\n",
    "    elif ph[0] > 7.65:\n",
    "        print('pH becoming basic, consider taking action')\n",
    "    else:\n",
    "        print('pH is okay')\n",
    "        \n",
    "    ph_minutes(time, pool)\n",
    "    ph_summary(time, pool)\n",
    "    \n",
    "    \n",
    "def ph_minutes(time, data):\n",
    "    df = data.reset_index()\n",
    "    index = df.index[df['time_stamp'] == time].tolist()\n",
    "    \n",
    "    # Have to take the last 5 time steps because collection frequency varies\n",
    "    df_time = df.iloc[index[0]-5:index[0]+1] # avoid end of index issues\n",
    "    # print(df_time)\n",
    "    df_time.plot(x='time_stamp', y='PH', use_index=True)\n",
    "    \n",
    "\n",
    "def ph_summary(time, data):\n",
    "    df = data\n",
    "    time = pd.to_datetime(time)\n",
    "    time_diff = time-pd.Timedelta(\"24 hours\")\n",
    "\n",
    "    df_summary = df.loc[str(time_diff): str(time)]\n",
    "\n",
    "    #print(df_summary)\n",
    "    df_summary.plot(y='PH', use_index=True)\n",
    "    \n",
    "    # PH stats\n",
    "    max_ph = max(df_summary['PH'])\n",
    "    min_ph = min(df_summary['PH'])\n",
    "    avg_ph = df_summary['PH'].mean()\n",
    "    \n",
    "    # Out of range calculation\n",
    "    df_out = df_summary[(df_summary['PH'] < 7.2) | (df_summary['PH'] > 7.8)]\n",
    "    out_perc = round((len(df_out)/len(df_summary)) * 100,2)\n",
    "    \n",
    "    # Range calculations\n",
    "    ph_superlow = df_summary[(df_summary['PH'] <= 6)]\n",
    "    ph_low = df_summary[(df_summary['PH'] > 6) & (df_summary['PH'] <= 7.2)]\n",
    "    ph_in = df_summary[(df_summary['PH'] > 7.2) & (df_summary['PH'] <= 7.8)]\n",
    "    ph_high = df_summary[(df_summary['PH'] > 7.8) & (df_summary['PH'] < 9)]\n",
    "    ph_superhigh = df_summary[df_summary['PH'] >= 9]\n",
    "\n",
    "    ph_levels = {'Very Low': 'Less than 6 pH', 'Low': '6pH to 7.2 pH', 'In-Range': '7.2pH to 7.8pH', \\\n",
    "                 'High':'7.8pH to 9pH', 'Very High': 'Greater than 9 pH'}\n",
    "\n",
    "    ph_summary = []\n",
    "\n",
    "    for level in ph_levels:\n",
    "        ph_summary.append(\n",
    "            {\n",
    "                'ph_level': level,\n",
    "                'range': ph_levels[level],\n",
    "                'time count': len(level),\n",
    "                'percentage': round(len(level)/len(df_summary),4) * 100\n",
    "            }\n",
    "        )\n",
    "    \n",
    "    ph_summ_df = pd.DataFrame(ph_summary)\n",
    "    ph_summ_df.set_index('ph_level', inplace=True)\n",
    "\n",
    "    print(f\"\"\"\n",
    "            In the last 24 hours from {time_diff.floor('S')} to {time.floor('S')} we have the following information:\\n\n",
    "            Max pH: {max_ph} \\n \n",
    "            Min pH: {min_ph} \\n\n",
    "            Average pH: {avg_ph} \\n\n",
    "            Out of Range Time (%): {out_perc}%                \n",
    "            \"\"\")\n",
    "    \n",
    "    print(f\"Range data can be observed as the following:\\n\")\n",
    "    print(f\"{tabulate(ph_summ_df, headers='keys', tablefmt='grid')}\")"
   ]
  },
  {
   "cell_type": "code",
   "execution_count": 49,
   "id": "15ccc278",
   "metadata": {
    "scrolled": false
   },
   "outputs": [
    {
     "name": "stdout",
     "output_type": "stream",
     "text": [
      "pH for pool 10001 is currently 7.60182\n",
      "pH is okay\n",
      "\n",
      "            In the last 24 hours from 2022-11-06 21:59:24 to 2022-11-07 21:59:24 we have the following information:\n",
      "\n",
      "            Max pH: 7.6917 \n",
      " \n",
      "            Min pH: 7.5689 \n",
      "\n",
      "            Average pH: 7.622154210526315 \n",
      "\n",
      "            Out of Range Time (%): 0.0%                \n",
      "            \n",
      "Range data can be observed as the following:\n",
      "\n",
      "+------------+-------------------+--------------+--------------+\n",
      "| ph_level   | range             |   time count |   percentage |\n",
      "+============+===================+==============+==============+\n",
      "| Very Low   | Less than 6 pH    |            8 |        21.05 |\n",
      "+------------+-------------------+--------------+--------------+\n",
      "| Low        | 6pH to 7.2 pH     |            3 |         7.89 |\n",
      "+------------+-------------------+--------------+--------------+\n",
      "| In-Range   | 7.2pH to 7.8pH    |            8 |        21.05 |\n",
      "+------------+-------------------+--------------+--------------+\n",
      "| High       | 7.8pH to 9pH      |            4 |        10.53 |\n",
      "+------------+-------------------+--------------+--------------+\n",
      "| Very High  | Greater than 9 pH |            9 |        23.68 |\n",
      "+------------+-------------------+--------------+--------------+\n"
     ]
    },
    {
     "data": {
      "image/png": "[encoded data removed]",
      "text/plain": [
       "<Figure size 432x288 with 1 Axes>"
      ]
     },
     "metadata": {
      "needs_background": "light"
     },
     "output_type": "display_data"
    },
    {
     "data": {
      "image/png": "[encoded data removed]",
      "text/plain": [
       "<Figure size 432x288 with 1 Axes>"
      ]
     },
     "metadata": {
      "needs_background": "light"
     },
     "output_type": "display_data"
    }
   ],
   "source": [
    "pool_id = 10001\n",
    "\n",
    "ph_warning('2022-11-07 21:59:24.885', df, pool_id)"
   ]
  }
 ],
 "metadata": {
  "kernelspec": {
   "display_name": "Python 3 (ipykernel)",
   "language": "python",
   "name": "python3"
  },
  "language_info": {
   "codemirror_mode": {
    "name": "ipython",
    "version": 3
   },
   "file_extension": ".py",
   "mimetype": "text/x-python",
   "name": "python",
   "nbconvert_exporter": "python",
   "pygments_lexer": "ipython3",
   "version": "3.9.7"
  }
 },
 "nbformat": 4,
 "nbformat_minor": 5
}
